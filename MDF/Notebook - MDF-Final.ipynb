{
 "cells": [
  {
   "cell_type": "markdown",
   "metadata": {},
   "source": [
    "# <center> Notebook - Data Science Competition - Meilleur Data Scientist de France <center/>"
   ]
  },
  {
   "cell_type": "markdown",
   "metadata": {},
   "source": [
    "*This notebook is about my participation to the data science competition: ['Le Meilleur Data Scientist de France'](https://www.datascience.net/fr/challenge/25/details). This goal of this competition is to construct a predictive model to estimates the prices of medication boxes.*\n",
    "\n",
    "**On this competition, I obtain a MAP score of 29,06%. On the leaderboard, I was on the top 15% (27/222).**"
   ]
  },
  {
   "cell_type": "markdown",
   "metadata": {},
   "source": [
    "![optional caption text](getChallengeImage.jpg)"
   ]
  },
  {
   "cell_type": "markdown",
   "metadata": {},
   "source": [
    "## <center> Summary <center/>\n",
    "\n",
    "[0. Exploratory Analysis](#Exploratory_Analysis)\n",
    "\n",
    "> [0.1 Import DataSet](#Import)\n",
    "\n",
    "> [0.2. Quick Look of the dataset](#dataset)\n",
    "\n",
    "> [0.3. List the different type of features](#features)\n",
    "\n",
    "> [0.4. Descriptive Analysis](#DesAna)\n",
    "\n",
    "[1. Data Cleaning](#Data_Cleaning)\n",
    "\n",
    "> [1.1. Duplicated Rows](#Duplicated)\n",
    "\n",
    "> [1.2. Duplicated Rows Bis (without interest variable)](#Duplicated_bis)\n",
    "\n",
    "> [1.3. NaN Values](#NaN)\n",
    "\n",
    "[2. Single Model](#Single_Model)\n",
    "\n",
    "> [2.1. Cross-Validation](#Cross_Validation)\n",
    "\n",
    "> [2.2. Single Model](#Single_Model2)\n",
    "\n",
    "> [2.3. Performance Metrics](#Perf)\n",
    "\n",
    "> [2.4. Single Model Function](#Single_function)\n",
    "\n",
    "\n",
    "[3. Features Engineering](#Single_Model)\n",
    "\n",
    "> [3.1. Transformation of 'prix'](#Prix_transformation)\n",
    "\n",
    "> [3.2. Date variables](#Date)\n",
    "\n",
    "> [3.3. Categorical Features](#CatFeat)\n",
    "\n",
    "> [3.3. Treating Text Features](#Text)\n",
    "\n",
    "> [3.4. The Parse Method](#Parse)\n",
    "\n",
    "\n",
    "[4. Diverse Model Optimisation](#Model)\n",
    "\n",
    "> [4.1. Gradient Boosting](#GBR)\n",
    "\n",
    "> [4.2. Random Forest](#RF)\n",
    "\n",
    "> [4.3. Extra Trees](#ET)\n",
    "\n",
    "> [4.4. Adaboost](#Ada)\n",
    "\n",
    "> [4.5. Ridge Regression](#Ridge)\n",
    "\n",
    "> [4.6. Elastic Net](#ENet)\n",
    "\n",
    "> [4.7. Lasso Regression](#Lasso)\n",
    "\n",
    "> [4.8. SVM](#SVM)\n",
    "\n",
    "[5. Stacking and Blending](#Stacking)\n",
    "\n",
    "> [5.1. Stacking by mean aggreagtion](#Stacking_1)\n",
    "\n",
    "> [5.2. Basic Stacking with Linear Regression](#Stacking_2)\n",
    "\n",
    "> [5.3. Stacking with stacked_generalizer](#Stacking_Gen)\n",
    "\n"
   ]
  },
  {
   "cell_type": "markdown",
   "metadata": {},
   "source": [
    "## <center> Notebook <center/>"
   ]
  },
  {
   "cell_type": "markdown",
   "metadata": {},
   "source": [
    "Importation of classical libraries "
   ]
  },
  {
   "cell_type": "code",
   "execution_count": 1,
   "metadata": {
    "collapsed": false
   },
   "outputs": [],
   "source": [
    "import pandas as pd\n",
    "import numpy as np\n",
    "import seaborn as sns\n",
    "import matplotlib.pyplot as plt\n",
    "\n",
    "%matplotlib inline "
   ]
  },
  {
   "cell_type": "markdown",
   "metadata": {},
   "source": [
    "### 0. Exploratory Analysis <a name=\"Exploratory_Analysis\"></a>"
   ]
  },
  {
   "cell_type": "markdown",
   "metadata": {},
   "source": [
    "#### 0.1 Import the data <a name=\"Import\"></a>"
   ]
  },
  {
   "cell_type": "code",
   "execution_count": 2,
   "metadata": {
    "collapsed": false
   },
   "outputs": [],
   "source": [
    "train = pd.read_csv('Data/boites_medicaments_train.csv',encoding='utf8',sep=';')\n",
    "test = pd.read_csv('Data/boites_medicaments_test.csv',encoding='utf8', sep=';')"
   ]
  },
  {
   "cell_type": "markdown",
   "metadata": {},
   "source": [
    "#### 0.2 Quick look of the dataset <a name=\"dataset\"></a>"
   ]
  },
  {
   "cell_type": "code",
   "execution_count": 3,
   "metadata": {
    "collapsed": false
   },
   "outputs": [
    {
     "data": {
      "text/html": [
       "<div>\n",
       "<table border=\"1\" class=\"dataframe\">\n",
       "  <thead>\n",
       "    <tr style=\"text-align: right;\">\n",
       "      <th></th>\n",
       "      <th>libelle</th>\n",
       "      <th>libelle_plaquette</th>\n",
       "      <th>libelle_ampoule</th>\n",
       "      <th>libelle_flacon</th>\n",
       "      <th>libelle_tube</th>\n",
       "      <th>libelle_stylo</th>\n",
       "      <th>libelle_seringue</th>\n",
       "      <th>libelle_pilulier</th>\n",
       "      <th>libelle_sachet</th>\n",
       "      <th>libelle_comprime</th>\n",
       "      <th>...</th>\n",
       "      <th>tx rembours</th>\n",
       "      <th>forme pharma</th>\n",
       "      <th>voies admin</th>\n",
       "      <th>statut admin</th>\n",
       "      <th>date declar annee</th>\n",
       "      <th>date amm annee</th>\n",
       "      <th>type proc</th>\n",
       "      <th>titulaires</th>\n",
       "      <th>substances</th>\n",
       "      <th>prix</th>\n",
       "    </tr>\n",
       "  </thead>\n",
       "  <tbody>\n",
       "    <tr>\n",
       "      <th>0</th>\n",
       "      <td>3 plaquette(s) thermoformée(s) PVC-Aluminium d...</td>\n",
       "      <td>1</td>\n",
       "      <td>0</td>\n",
       "      <td>0</td>\n",
       "      <td>0</td>\n",
       "      <td>0</td>\n",
       "      <td>0</td>\n",
       "      <td>0</td>\n",
       "      <td>0</td>\n",
       "      <td>1</td>\n",
       "      <td>...</td>\n",
       "      <td>65%</td>\n",
       "      <td>comprimé pelliculé</td>\n",
       "      <td>orale</td>\n",
       "      <td>Autorisation active</td>\n",
       "      <td>2014</td>\n",
       "      <td>2014</td>\n",
       "      <td>Procédure décentralisée</td>\n",
       "      <td>MAJORELLE LUXEMBOURG SOPARFI (LUXEMBOURG)</td>\n",
       "      <td>DÉSOGESTREL</td>\n",
       "      <td>2.83</td>\n",
       "    </tr>\n",
       "    <tr>\n",
       "      <th>1</th>\n",
       "      <td>plaquette(s) thermoformée(s) aluminium de 28 c...</td>\n",
       "      <td>1</td>\n",
       "      <td>0</td>\n",
       "      <td>0</td>\n",
       "      <td>0</td>\n",
       "      <td>0</td>\n",
       "      <td>0</td>\n",
       "      <td>0</td>\n",
       "      <td>0</td>\n",
       "      <td>1</td>\n",
       "      <td>...</td>\n",
       "      <td>65%</td>\n",
       "      <td>comprimé à croquer</td>\n",
       "      <td>orale</td>\n",
       "      <td>Autorisation active</td>\n",
       "      <td>2013</td>\n",
       "      <td>2009</td>\n",
       "      <td>Procédure de reconnaissance mutuelle</td>\n",
       "      <td>TEVA SANTE</td>\n",
       "      <td>MONTÉLUKAST ACIDE, MONTÉLUKAST SODIQUE</td>\n",
       "      <td>14.30</td>\n",
       "    </tr>\n",
       "    <tr>\n",
       "      <th>2</th>\n",
       "      <td>plaquette(s) thermoformée(s) PVC-aluminium de ...</td>\n",
       "      <td>1</td>\n",
       "      <td>0</td>\n",
       "      <td>0</td>\n",
       "      <td>0</td>\n",
       "      <td>0</td>\n",
       "      <td>0</td>\n",
       "      <td>0</td>\n",
       "      <td>0</td>\n",
       "      <td>0</td>\n",
       "      <td>...</td>\n",
       "      <td>65%</td>\n",
       "      <td>gélule à libération prolongée</td>\n",
       "      <td>orale</td>\n",
       "      <td>Autorisation active</td>\n",
       "      <td>2000</td>\n",
       "      <td>1996</td>\n",
       "      <td>Procédure nationale</td>\n",
       "      <td>MYLAN SAS</td>\n",
       "      <td>CHLORHYDRATE DE DILTIAZEM</td>\n",
       "      <td>5.66</td>\n",
       "    </tr>\n",
       "  </tbody>\n",
       "</table>\n",
       "<p>3 rows × 41 columns</p>\n",
       "</div>"
      ],
      "text/plain": [
       "                                             libelle  libelle_plaquette  \\\n",
       "0  3 plaquette(s) thermoformée(s) PVC-Aluminium d...                  1   \n",
       "1  plaquette(s) thermoformée(s) aluminium de 28 c...                  1   \n",
       "2  plaquette(s) thermoformée(s) PVC-aluminium de ...                  1   \n",
       "\n",
       "   libelle_ampoule  libelle_flacon  libelle_tube  libelle_stylo  \\\n",
       "0                0               0             0              0   \n",
       "1                0               0             0              0   \n",
       "2                0               0             0              0   \n",
       "\n",
       "   libelle_seringue  libelle_pilulier  libelle_sachet  libelle_comprime  \\\n",
       "0                 0                 0               0                 1   \n",
       "1                 0                 0               0                 1   \n",
       "2                 0                 0               0                 0   \n",
       "\n",
       "   ...    tx rembours                   forme pharma  voies admin  \\\n",
       "0  ...            65%             comprimé pelliculé        orale   \n",
       "1  ...            65%             comprimé à croquer        orale   \n",
       "2  ...            65%  gélule à libération prolongée        orale   \n",
       "\n",
       "          statut admin  date declar annee  date amm annee  \\\n",
       "0  Autorisation active               2014            2014   \n",
       "1  Autorisation active               2013            2009   \n",
       "2  Autorisation active               2000            1996   \n",
       "\n",
       "                              type proc  \\\n",
       "0               Procédure décentralisée   \n",
       "1  Procédure de reconnaissance mutuelle   \n",
       "2                   Procédure nationale   \n",
       "\n",
       "                                   titulaires  \\\n",
       "0   MAJORELLE LUXEMBOURG SOPARFI (LUXEMBOURG)   \n",
       "1                                  TEVA SANTE   \n",
       "2                                   MYLAN SAS   \n",
       "\n",
       "                               substances   prix  \n",
       "0                             DÉSOGESTREL   2.83  \n",
       "1  MONTÉLUKAST ACIDE, MONTÉLUKAST SODIQUE  14.30  \n",
       "2               CHLORHYDRATE DE DILTIAZEM   5.66  \n",
       "\n",
       "[3 rows x 41 columns]"
      ]
     },
     "execution_count": 3,
     "metadata": {},
     "output_type": "execute_result"
    }
   ],
   "source": [
    "train.head(3)"
   ]
  },
  {
   "cell_type": "code",
   "execution_count": 4,
   "metadata": {
    "collapsed": false
   },
   "outputs": [
    {
     "data": {
      "text/html": [
       "<div>\n",
       "<table border=\"1\" class=\"dataframe\">\n",
       "  <thead>\n",
       "    <tr style=\"text-align: right;\">\n",
       "      <th></th>\n",
       "      <th>id</th>\n",
       "      <th>libelle</th>\n",
       "      <th>libelle_plaquette</th>\n",
       "      <th>libelle_ampoule</th>\n",
       "      <th>libelle_flacon</th>\n",
       "      <th>libelle_tube</th>\n",
       "      <th>libelle_stylo</th>\n",
       "      <th>libelle_seringue</th>\n",
       "      <th>libelle_pilulier</th>\n",
       "      <th>libelle_sachet</th>\n",
       "      <th>...</th>\n",
       "      <th>agrement col</th>\n",
       "      <th>tx rembours</th>\n",
       "      <th>forme pharma</th>\n",
       "      <th>voies admin</th>\n",
       "      <th>statut admin</th>\n",
       "      <th>date declar annee</th>\n",
       "      <th>date amm annee</th>\n",
       "      <th>type proc</th>\n",
       "      <th>titulaires</th>\n",
       "      <th>substances</th>\n",
       "    </tr>\n",
       "  </thead>\n",
       "  <tbody>\n",
       "    <tr>\n",
       "      <th>0</th>\n",
       "      <td>1</td>\n",
       "      <td>plaquette(s) thermoformée(s) polyamide alumini...</td>\n",
       "      <td>1</td>\n",
       "      <td>0</td>\n",
       "      <td>0</td>\n",
       "      <td>0</td>\n",
       "      <td>0</td>\n",
       "      <td>0</td>\n",
       "      <td>0</td>\n",
       "      <td>0</td>\n",
       "      <td>...</td>\n",
       "      <td>non</td>\n",
       "      <td>65%</td>\n",
       "      <td>comprimé gastro-résistant(e)</td>\n",
       "      <td>orale</td>\n",
       "      <td>Autorisation active</td>\n",
       "      <td>2013</td>\n",
       "      <td>2008</td>\n",
       "      <td>Procédure de reconnaissance mutuelle</td>\n",
       "      <td>TEVA SANTE</td>\n",
       "      <td>PANTOPRAZOLE SODIQUE SESQUIHYDRATÉ, PANTOPRAZOLE</td>\n",
       "    </tr>\n",
       "    <tr>\n",
       "      <th>1</th>\n",
       "      <td>2</td>\n",
       "      <td>plaquette(s) thermoformée(s) PVC PVDC aluminiu...</td>\n",
       "      <td>1</td>\n",
       "      <td>0</td>\n",
       "      <td>0</td>\n",
       "      <td>0</td>\n",
       "      <td>0</td>\n",
       "      <td>0</td>\n",
       "      <td>0</td>\n",
       "      <td>0</td>\n",
       "      <td>...</td>\n",
       "      <td>non</td>\n",
       "      <td>30%</td>\n",
       "      <td>capsule</td>\n",
       "      <td>vaginale</td>\n",
       "      <td>Autorisation active</td>\n",
       "      <td>2012</td>\n",
       "      <td>1997</td>\n",
       "      <td>Procédure nationale</td>\n",
       "      <td>INNOTECH INTERNATIONAL</td>\n",
       "      <td>NYSTATINE, SULFATE DE POLYMYXINE B, SULFATE DE...</td>\n",
       "    </tr>\n",
       "    <tr>\n",
       "      <th>2</th>\n",
       "      <td>3</td>\n",
       "      <td>plaquette(s) thermoformée(s) PVC-Aluminium de ...</td>\n",
       "      <td>1</td>\n",
       "      <td>0</td>\n",
       "      <td>0</td>\n",
       "      <td>0</td>\n",
       "      <td>0</td>\n",
       "      <td>0</td>\n",
       "      <td>0</td>\n",
       "      <td>0</td>\n",
       "      <td>...</td>\n",
       "      <td>non</td>\n",
       "      <td>65%</td>\n",
       "      <td>comprimé</td>\n",
       "      <td>orale</td>\n",
       "      <td>Autorisation abrogée</td>\n",
       "      <td>2013</td>\n",
       "      <td>2006</td>\n",
       "      <td>Procédure nationale</td>\n",
       "      <td>ACTAVIS FRANCE</td>\n",
       "      <td>PRAVASTATINE SODIQUE</td>\n",
       "    </tr>\n",
       "  </tbody>\n",
       "</table>\n",
       "<p>3 rows × 41 columns</p>\n",
       "</div>"
      ],
      "text/plain": [
       "   id                                            libelle  libelle_plaquette  \\\n",
       "0   1  plaquette(s) thermoformée(s) polyamide alumini...                  1   \n",
       "1   2  plaquette(s) thermoformée(s) PVC PVDC aluminiu...                  1   \n",
       "2   3  plaquette(s) thermoformée(s) PVC-Aluminium de ...                  1   \n",
       "\n",
       "   libelle_ampoule  libelle_flacon  libelle_tube  libelle_stylo  \\\n",
       "0                0               0             0              0   \n",
       "1                0               0             0              0   \n",
       "2                0               0             0              0   \n",
       "\n",
       "   libelle_seringue  libelle_pilulier  libelle_sachet  \\\n",
       "0                 0                 0               0   \n",
       "1                 0                 0               0   \n",
       "2                 0                 0               0   \n",
       "\n",
       "                         ...                          agrement col  \\\n",
       "0                        ...                                   non   \n",
       "1                        ...                                   non   \n",
       "2                        ...                                   non   \n",
       "\n",
       "   tx rembours                  forme pharma  voies admin  \\\n",
       "0          65%  comprimé gastro-résistant(e)        orale   \n",
       "1          30%                       capsule     vaginale   \n",
       "2          65%                      comprimé        orale   \n",
       "\n",
       "           statut admin  date declar annee  date amm annee  \\\n",
       "0   Autorisation active               2013            2008   \n",
       "1   Autorisation active               2012            1997   \n",
       "2  Autorisation abrogée               2013            2006   \n",
       "\n",
       "                              type proc               titulaires  \\\n",
       "0  Procédure de reconnaissance mutuelle               TEVA SANTE   \n",
       "1                   Procédure nationale   INNOTECH INTERNATIONAL   \n",
       "2                   Procédure nationale           ACTAVIS FRANCE   \n",
       "\n",
       "                                          substances  \n",
       "0   PANTOPRAZOLE SODIQUE SESQUIHYDRATÉ, PANTOPRAZOLE  \n",
       "1  NYSTATINE, SULFATE DE POLYMYXINE B, SULFATE DE...  \n",
       "2                               PRAVASTATINE SODIQUE  \n",
       "\n",
       "[3 rows x 41 columns]"
      ]
     },
     "execution_count": 4,
     "metadata": {},
     "output_type": "execute_result"
    }
   ],
   "source": [
    "test.head(3)"
   ]
  },
  {
   "cell_type": "markdown",
   "metadata": {},
   "source": [
    "We look the shape of the data"
   ]
  },
  {
   "cell_type": "code",
   "execution_count": 5,
   "metadata": {
    "collapsed": false
   },
   "outputs": [
    {
     "name": "stdout",
     "output_type": "stream",
     "text": [
      "Training set has 8564 samples and 41 variables.\n",
      "Test set has 3671 samples and 41 variables.\n",
      "The variable of interest is : 'prix'.\n"
     ]
    }
   ],
   "source": [
    "y_var = [value for value in set(train.columns.values) - set(test.columns.values)]\n",
    "\n",
    "print \"Training set has {} samples and {} variables.\".format(*train.shape)\n",
    "print \"Test set has {} samples and {} variables.\".format(*test.shape)\n",
    "print \"The variable of interest is : '{}'.\".format(*y_var)"
   ]
  },
  {
   "cell_type": "markdown",
   "metadata": {},
   "source": [
    "#### 0.3 List the different type of features <a name=\"features\"></a>"
   ]
  },
  {
   "cell_type": "markdown",
   "metadata": {},
   "source": [
    "the idea is studying the different type of each variables. Constructing this kind of architecture allows to test different combinations in the feature engineering part. "
   ]
  },
  {
   "cell_type": "code",
   "execution_count": 6,
   "metadata": {
    "collapsed": false
   },
   "outputs": [
    {
     "data": {
      "text/plain": [
       "array([u'libelle', u'libelle_plaquette', u'libelle_ampoule',\n",
       "       u'libelle_flacon', u'libelle_tube', u'libelle_stylo',\n",
       "       u'libelle_seringue', u'libelle_pilulier', u'libelle_sachet',\n",
       "       u'libelle_comprime', u'libelle_gelule', u'libelle_film',\n",
       "       u'libelle_poche', u'libelle_capsule', u'nb_plaquette',\n",
       "       u'nb_ampoule', u'nb_flacon', u'nb_tube', u'nb_stylo',\n",
       "       u'nb_seringue', u'nb_pilulier', u'nb_sachet', u'nb_comprime',\n",
       "       u'nb_gelule', u'nb_film', u'nb_poche', u'nb_capsule', u'nb_ml',\n",
       "       u'statut', u'etat commerc', u'agrement col', u'tx rembours',\n",
       "       u'forme pharma', u'voies admin', u'statut admin',\n",
       "       u'date declar annee', u'date amm annee', u'type proc',\n",
       "       u'titulaires', u'substances', u'prix'], dtype=object)"
      ]
     },
     "execution_count": 6,
     "metadata": {},
     "output_type": "execute_result"
    }
   ],
   "source": [
    "train.columns.values"
   ]
  },
  {
   "cell_type": "code",
   "execution_count": 7,
   "metadata": {
    "collapsed": false
   },
   "outputs": [],
   "source": [
    "#Interest variable\n",
    "y_var = ['prix']\n",
    "\n",
    "# features numériques\n",
    "feat_num = ['libelle_plaquette', 'libelle_ampoule', 'libelle_flacon', \n",
    "            'libelle_tube', 'libelle_stylo', 'libelle_seringue',\n",
    "            'libelle_pilulier', 'libelle_sachet', 'libelle_comprime', \n",
    "            'libelle_gelule', 'libelle_film', 'libelle_poche',\n",
    "            'libelle_capsule'] + ['nb_plaquette', 'nb_ampoule', \n",
    "            'nb_flacon', 'nb_tube', 'nb_stylo', 'nb_seringue',\n",
    "            'nb_pilulier', 'nb_sachet', 'nb_comprime', 'nb_gelule', \n",
    "            'nb_film', 'nb_poche', 'nb_capsule', 'nb_ml']\n",
    "\n",
    "# features date\n",
    "feat_dates = ['date declar annee', 'date amm annee']\n",
    "\n",
    "# features catégorielles\n",
    "feat_cat = ['statut', 'etat commerc', 'agrement col', 'tx rembours',\n",
    "          'voies admin', 'statut admin', 'type proc']\n",
    "\n",
    "# features texte\n",
    "feat_text = ['libelle', 'titulaires', 'substances', 'forme pharma']\n",
    "\n",
    "\n",
    "# All features vector\n",
    "feat_all = feat_num + feat_dates + feat_cat + feat_text"
   ]
  },
  {
   "cell_type": "markdown",
   "metadata": {},
   "source": [
    "#### 0.4 Data Descriptive Analysis <a name=\"DesAna\"></a>"
   ]
  },
  {
   "cell_type": "markdown",
   "metadata": {},
   "source": [
    "##### 0.4.1. The interest variable: the price"
   ]
  },
  {
   "cell_type": "markdown",
   "metadata": {},
   "source": [
    "First, we choose to look the distribition of the price. The distribution of the price is very unbalanced: we have a lot of price between 0 and 100. The problem with that will be that the supervized model learn badly. One way to tackle this problem is to transform this variable to a more 'normal' distribution. To do that we can use a log-transformation we verify if it is better in the next part."
   ]
  },
  {
   "cell_type": "code",
   "execution_count": 8,
   "metadata": {
    "collapsed": false
   },
   "outputs": [
    {
     "data": {
      "text/plain": [
       "<matplotlib.axes._subplots.AxesSubplot at 0xaaa1588>"
      ]
     },
     "execution_count": 8,
     "metadata": {},
     "output_type": "execute_result"
    },
    {
     "data": {
      "image/png": "[encoded data removed]",
      "text/plain": [
       "<matplotlib.figure.Figure at 0xaaa14e0>"
      ]
     },
     "metadata": {},
     "output_type": "display_data"
    }
   ],
   "source": [
    "train['prix'].hist()"
   ]
  },
  {
   "cell_type": "code",
   "execution_count": 9,
   "metadata": {
    "collapsed": false
   },
   "outputs": [
    {
     "data": {
      "text/plain": [
       "<matplotlib.axes._subplots.AxesSubplot at 0xa9cf5c0>"
      ]
     },
     "execution_count": 9,
     "metadata": {},
     "output_type": "execute_result"
    },
    {
     "data": {
      "image/png": "[encoded data removed]",
      "text/plain": [
       "<matplotlib.figure.Figure at 0xae80400>"
      ]
     },
     "metadata": {},
     "output_type": "display_data"
    }
   ],
   "source": [
    "train['logprix'] = train['prix'].apply(np.log)\n",
    "train['logprix'].hist()"
   ]
  },
  {
   "cell_type": "markdown",
   "metadata": {},
   "source": [
    "##### 0.4.2. The impact of 'tx rembours'"
   ]
  },
  {
   "cell_type": "code",
   "execution_count": 10,
   "metadata": {
    "collapsed": false
   },
   "outputs": [
    {
     "data": {
      "text/plain": [
       "<matplotlib.axes._subplots.AxesSubplot at 0xaf27048>"
      ]
     },
     "execution_count": 10,
     "metadata": {},
     "output_type": "execute_result"
    },
    {
     "data": {
      "image/png": "[encoded data removed]",
      "text/plain": [
       "<matplotlib.figure.Figure at 0xb9fa128>"
      ]
     },
     "metadata": {},
     "output_type": "display_data"
    }
   ],
   "source": [
    "sns.violinplot(y=\"logprix\", x=\"tx rembours\", data=train)"
   ]
  },
  {
   "cell_type": "markdown",
   "metadata": {},
   "source": [
    "##### 0.4.3. The influence of the statut on the price"
   ]
  },
  {
   "cell_type": "code",
   "execution_count": 11,
   "metadata": {
    "collapsed": false
   },
   "outputs": [
    {
     "data": {
      "text/plain": [
       "<matplotlib.axes._subplots.AxesSubplot at 0xbb462b0>"
      ]
     },
     "execution_count": 11,
     "metadata": {},
     "output_type": "execute_result"
    },
    {
     "data": {
      "image/png": "[encoded data removed]",
      "text/plain": [
       "<matplotlib.figure.Figure at 0xbd0dac8>"
      ]
     },
     "metadata": {},
     "output_type": "display_data"
    }
   ],
   "source": [
    "sns.boxplot(y=\"logprix\", x=\"statut\", data=train)"
   ]
  },
  {
   "cell_type": "markdown",
   "metadata": {},
   "source": [
    "##### 0.4.4. The distribution and the difference between 'AMM date' and 'declar date'"
   ]
  },
  {
   "cell_type": "code",
   "execution_count": 12,
   "metadata": {
    "collapsed": false
   },
   "outputs": [
    {
     "data": {
      "text/plain": [
       "<matplotlib.axes._subplots.AxesSubplot at 0xbdc67f0>"
      ]
     },
     "execution_count": 12,
     "metadata": {},
     "output_type": "execute_result"
    },
    {
     "data": {
      "image/png": "[encoded data removed]",
      "text/plain": [
       "<matplotlib.figure.Figure at 0xb9fa7b8>"
      ]
     },
     "metadata": {},
     "output_type": "display_data"
    }
   ],
   "source": [
    "bins_declar = (max(train['date declar annee'])- min(train['date declar annee']))/2\n",
    "bins_amm = (max(train['date amm annee'])- min(train['date amm annee']))/2\n",
    "\n",
    "\n",
    "train['date declar annee'].hist(bins=bins_declar, alpha=0.5)\n",
    "train['date amm annee'].hist(bins=bins_amm, alpha=0.5)"
   ]
  },
  {
   "cell_type": "markdown",
   "metadata": {},
   "source": [
    "### 1. Data Cleaning <a name=\"Data_Cleaning\"></a>"
   ]
  },
  {
   "cell_type": "markdown",
   "metadata": {},
   "source": [
    "From this part, we work on the data. So, we choose to copy the two dataset to keep the original dataset unchanged."
   ]
  },
  {
   "cell_type": "code",
   "execution_count": 13,
   "metadata": {
    "collapsed": true
   },
   "outputs": [],
   "source": [
    "train_set = train.copy()\n",
    "test_set = test.copy()"
   ]
  },
  {
   "cell_type": "markdown",
   "metadata": {},
   "source": [
    "#### 1.1. Drop duplicates rows <a name=\"Duplicated\"></a>"
   ]
  },
  {
   "cell_type": "markdown",
   "metadata": {},
   "source": [
    "Duplicates variables are not good to train a model because one individual is over represented. So, \n",
    "* We check if it exists duplicates rows in the training set\n",
    "* We suppress duplicates if it is necessary\n"
   ]
  },
  {
   "cell_type": "code",
   "execution_count": 14,
   "metadata": {
    "collapsed": false
   },
   "outputs": [
    {
     "name": "stdout",
     "output_type": "stream",
     "text": [
      "In the training set we found 376 duplicated rows.\n"
     ]
    }
   ],
   "source": [
    "nb_duplicated = sum(train_set.duplicated())\n",
    "print 'In the training set we found {} duplicated rows.' .format(nb_duplicated)"
   ]
  },
  {
   "cell_type": "code",
   "execution_count": 15,
   "metadata": {
    "collapsed": false
   },
   "outputs": [
    {
     "name": "stdout",
     "output_type": "stream",
     "text": [
      "In the test set we found 0 duplicated rows.\n"
     ]
    }
   ],
   "source": [
    "nb_duplicated = sum(test_set.duplicated())\n",
    "print 'In the test set we found {} duplicated rows.' .format(nb_duplicated)"
   ]
  },
  {
   "cell_type": "markdown",
   "metadata": {},
   "source": [
    "We choose to suppress these rows. "
   ]
  },
  {
   "cell_type": "code",
   "execution_count": 16,
   "metadata": {
    "collapsed": false
   },
   "outputs": [
    {
     "name": "stdout",
     "output_type": "stream",
     "text": [
      "After supressing duplicated values, the training set contains 8188 rows (8564 previously)\n"
     ]
    }
   ],
   "source": [
    "train_set.drop_duplicates(keep='first',inplace=True)\n",
    "print 'After supressing duplicated values, the training set contains {} rows ({} previously)'.format(train_set.shape[0],train.shape[0])"
   ]
  },
  {
   "cell_type": "markdown",
   "metadata": {},
   "source": [
    "#### 1.2. Drop duplicates rows bis (without interest variable)  <a name=\"Duplicated_bis\"></a>"
   ]
  },
  {
   "cell_type": "markdown",
   "metadata": {},
   "source": [
    "Note that in some cases there exists duplicated values for features but not for the interest variable. It seems important to verify this.  "
   ]
  },
  {
   "cell_type": "code",
   "execution_count": 17,
   "metadata": {
    "collapsed": false
   },
   "outputs": [
    {
     "name": "stdout",
     "output_type": "stream",
     "text": [
      "In the dataset we found 691 duplicated rows.\n"
     ]
    }
   ],
   "source": [
    "nb_duplicated = sum(train_set[feat_all].duplicated())\n",
    "print 'In the dataset we found {} duplicated rows.' .format(nb_duplicated)"
   ]
  },
  {
   "cell_type": "markdown",
   "metadata": {
    "collapsed": true
   },
   "source": [
    "How this values are the same and what is the difference in terms of prices?"
   ]
  },
  {
   "cell_type": "code",
   "execution_count": 18,
   "metadata": {
    "collapsed": false
   },
   "outputs": [
    {
     "data": {
      "text/html": [
       "<div>\n",
       "<table border=\"1\" class=\"dataframe\">\n",
       "  <thead>\n",
       "    <tr style=\"text-align: right;\">\n",
       "      <th></th>\n",
       "      <th>libelle</th>\n",
       "      <th>libelle_plaquette</th>\n",
       "      <th>libelle_ampoule</th>\n",
       "      <th>libelle_flacon</th>\n",
       "      <th>libelle_tube</th>\n",
       "      <th>libelle_stylo</th>\n",
       "      <th>libelle_seringue</th>\n",
       "      <th>libelle_pilulier</th>\n",
       "      <th>libelle_sachet</th>\n",
       "      <th>libelle_comprime</th>\n",
       "      <th>...</th>\n",
       "      <th>forme pharma</th>\n",
       "      <th>voies admin</th>\n",
       "      <th>statut admin</th>\n",
       "      <th>date declar annee</th>\n",
       "      <th>date amm annee</th>\n",
       "      <th>type proc</th>\n",
       "      <th>titulaires</th>\n",
       "      <th>substances</th>\n",
       "      <th>prix</th>\n",
       "      <th>logprix</th>\n",
       "    </tr>\n",
       "  </thead>\n",
       "  <tbody>\n",
       "    <tr>\n",
       "      <th>3944</th>\n",
       "      <td>1 cartouche(s) bicompartimentée(s) en verre da...</td>\n",
       "      <td>0</td>\n",
       "      <td>0</td>\n",
       "      <td>0</td>\n",
       "      <td>0</td>\n",
       "      <td>1</td>\n",
       "      <td>0</td>\n",
       "      <td>0</td>\n",
       "      <td>0</td>\n",
       "      <td>0</td>\n",
       "      <td>...</td>\n",
       "      <td>poudre et  solvant pour solution injectable</td>\n",
       "      <td>sous-cutanée</td>\n",
       "      <td>Autorisation active</td>\n",
       "      <td>2002</td>\n",
       "      <td>2002</td>\n",
       "      <td>Procédure centralisée</td>\n",
       "      <td>MERCK SHARP &amp; DOHME (GRANDE BRETAGNE)</td>\n",
       "      <td>PEGINTERFÉRON ALFA-2B</td>\n",
       "      <td>93.44</td>\n",
       "      <td>4.537320</td>\n",
       "    </tr>\n",
       "    <tr>\n",
       "      <th>3692</th>\n",
       "      <td>1 cartouche(s) bicompartimentée(s) en verre da...</td>\n",
       "      <td>0</td>\n",
       "      <td>0</td>\n",
       "      <td>0</td>\n",
       "      <td>0</td>\n",
       "      <td>1</td>\n",
       "      <td>0</td>\n",
       "      <td>0</td>\n",
       "      <td>0</td>\n",
       "      <td>0</td>\n",
       "      <td>...</td>\n",
       "      <td>poudre et  solvant pour solution injectable</td>\n",
       "      <td>sous-cutanée</td>\n",
       "      <td>Autorisation active</td>\n",
       "      <td>2002</td>\n",
       "      <td>2002</td>\n",
       "      <td>Procédure centralisée</td>\n",
       "      <td>MERCK SHARP &amp; DOHME (GRANDE BRETAGNE)</td>\n",
       "      <td>PEGINTERFÉRON ALFA-2B</td>\n",
       "      <td>271.34</td>\n",
       "      <td>5.603373</td>\n",
       "    </tr>\n",
       "    <tr>\n",
       "      <th>4347</th>\n",
       "      <td>1 cartouche(s) bicompartimentée(s) en verre da...</td>\n",
       "      <td>0</td>\n",
       "      <td>0</td>\n",
       "      <td>0</td>\n",
       "      <td>0</td>\n",
       "      <td>1</td>\n",
       "      <td>0</td>\n",
       "      <td>0</td>\n",
       "      <td>0</td>\n",
       "      <td>0</td>\n",
       "      <td>...</td>\n",
       "      <td>poudre et  solvant pour solution injectable</td>\n",
       "      <td>sous-cutanée</td>\n",
       "      <td>Autorisation active</td>\n",
       "      <td>2002</td>\n",
       "      <td>2002</td>\n",
       "      <td>Procédure centralisée</td>\n",
       "      <td>MERCK SHARP &amp; DOHME (GRANDE BRETAGNE)</td>\n",
       "      <td>PEGINTERFÉRON ALFA-2B</td>\n",
       "      <td>183.33</td>\n",
       "      <td>5.211288</td>\n",
       "    </tr>\n",
       "    <tr>\n",
       "      <th>5632</th>\n",
       "      <td>1 cartouche(s) bicompartimentée(s) en verre da...</td>\n",
       "      <td>0</td>\n",
       "      <td>0</td>\n",
       "      <td>0</td>\n",
       "      <td>0</td>\n",
       "      <td>1</td>\n",
       "      <td>0</td>\n",
       "      <td>0</td>\n",
       "      <td>0</td>\n",
       "      <td>0</td>\n",
       "      <td>...</td>\n",
       "      <td>poudre et  solvant pour solution injectable</td>\n",
       "      <td>sous-cutanée</td>\n",
       "      <td>Autorisation active</td>\n",
       "      <td>2002</td>\n",
       "      <td>2002</td>\n",
       "      <td>Procédure centralisée</td>\n",
       "      <td>MERCK SHARP &amp; DOHME (GRANDE BRETAGNE)</td>\n",
       "      <td>PEGINTERFÉRON ALFA-2B</td>\n",
       "      <td>147.42</td>\n",
       "      <td>4.993286</td>\n",
       "    </tr>\n",
       "  </tbody>\n",
       "</table>\n",
       "<p>4 rows × 42 columns</p>\n",
       "</div>"
      ],
      "text/plain": [
       "                                                libelle  libelle_plaquette  \\\n",
       "3944  1 cartouche(s) bicompartimentée(s) en verre da...                  0   \n",
       "3692  1 cartouche(s) bicompartimentée(s) en verre da...                  0   \n",
       "4347  1 cartouche(s) bicompartimentée(s) en verre da...                  0   \n",
       "5632  1 cartouche(s) bicompartimentée(s) en verre da...                  0   \n",
       "\n",
       "      libelle_ampoule  libelle_flacon  libelle_tube  libelle_stylo  \\\n",
       "3944                0               0             0              1   \n",
       "3692                0               0             0              1   \n",
       "4347                0               0             0              1   \n",
       "5632                0               0             0              1   \n",
       "\n",
       "      libelle_seringue  libelle_pilulier  libelle_sachet  libelle_comprime  \\\n",
       "3944                 0                 0               0                 0   \n",
       "3692                 0                 0               0                 0   \n",
       "4347                 0                 0               0                 0   \n",
       "5632                 0                 0               0                 0   \n",
       "\n",
       "        ...                                    forme pharma   voies admin  \\\n",
       "3944    ...     poudre et  solvant pour solution injectable  sous-cutanée   \n",
       "3692    ...     poudre et  solvant pour solution injectable  sous-cutanée   \n",
       "4347    ...     poudre et  solvant pour solution injectable  sous-cutanée   \n",
       "5632    ...     poudre et  solvant pour solution injectable  sous-cutanée   \n",
       "\n",
       "             statut admin  date declar annee  date amm annee  \\\n",
       "3944  Autorisation active               2002            2002   \n",
       "3692  Autorisation active               2002            2002   \n",
       "4347  Autorisation active               2002            2002   \n",
       "5632  Autorisation active               2002            2002   \n",
       "\n",
       "                  type proc                              titulaires  \\\n",
       "3944  Procédure centralisée   MERCK SHARP & DOHME (GRANDE BRETAGNE)   \n",
       "3692  Procédure centralisée   MERCK SHARP & DOHME (GRANDE BRETAGNE)   \n",
       "4347  Procédure centralisée   MERCK SHARP & DOHME (GRANDE BRETAGNE)   \n",
       "5632  Procédure centralisée   MERCK SHARP & DOHME (GRANDE BRETAGNE)   \n",
       "\n",
       "                  substances    prix   logprix  \n",
       "3944  PEGINTERFÉRON ALFA-2B    93.44  4.537320  \n",
       "3692  PEGINTERFÉRON ALFA-2B   271.34  5.603373  \n",
       "4347  PEGINTERFÉRON ALFA-2B   183.33  5.211288  \n",
       "5632  PEGINTERFÉRON ALFA-2B   147.42  4.993286  \n",
       "\n",
       "[4 rows x 42 columns]"
      ]
     },
     "execution_count": 18,
     "metadata": {},
     "output_type": "execute_result"
    }
   ],
   "source": [
    "train_set[train_set[feat_all].duplicated(keep=False)==True].sort_values(by='libelle').head(4)"
   ]
  },
  {
   "cell_type": "markdown",
   "metadata": {},
   "source": [
    "If we look the prices, we can remark we have a lot of difference between them. We have no information about the update of the data. So, we think one solution is to aggregate the data to choose the mean. "
   ]
  },
  {
   "cell_type": "code",
   "execution_count": 19,
   "metadata": {
    "collapsed": false
   },
   "outputs": [
    {
     "name": "stdout",
     "output_type": "stream",
     "text": [
      "Transformation is ok.\n",
      "In the dataset now we have 7497 duplicated rows.\n"
     ]
    }
   ],
   "source": [
    "nb_rows_before = train_set.shape[0]\n",
    "\n",
    "train_set_1 = train_set[train_set[feat_all].duplicated(keep=False)==False]\n",
    "\n",
    "duplicated_features = train_set[train_set[feat_all].duplicated(keep=False)==True]\n",
    "agg_duplicated = duplicated_features.groupby(by=feat_all).mean()\n",
    "agg_duplicated = agg_duplicated.reset_index()\n",
    "\n",
    "train_set = train_set_1.append(agg_duplicated)\n",
    "train_set.reset_index(drop=True,inplace=True)\n",
    "\n",
    "if (nb_rows_before-nb_duplicated)==train_set.shape[0]:\n",
    "    print 'Transformation is ok.'\n",
    "print 'In the dataset now we have {} duplicated rows.' .format(train_set.shape[0])"
   ]
  },
  {
   "cell_type": "markdown",
   "metadata": {},
   "source": [
    "#### 1.3. Cleaning the NaN values <a name=\"NaN\"></a>"
   ]
  },
  {
   "cell_type": "markdown",
   "metadata": {},
   "source": [
    "A lot of models do not accept NaN values. So this is necessary:\n",
    "* To look what are the variables that contains NaN. \n",
    "* To look the number of NaN in each variable\n",
    "* If some rows in the training set contains a lot of NaN\n",
    "* What type of technics we use to replace NaN?"
   ]
  },
  {
   "cell_type": "code",
   "execution_count": 20,
   "metadata": {
    "collapsed": false
   },
   "outputs": [
    {
     "data": {
      "text/plain": [
       "Series([], dtype: int64)"
      ]
     },
     "execution_count": 20,
     "metadata": {},
     "output_type": "execute_result"
    }
   ],
   "source": [
    "check_na = train_set.apply(lambda x: sum(x.isnull()),axis=0)\n",
    "check_na[check_na > 0]"
   ]
  },
  {
   "cell_type": "code",
   "execution_count": 21,
   "metadata": {
    "collapsed": false
   },
   "outputs": [
    {
     "data": {
      "text/plain": [
       "Series([], dtype: int64)"
      ]
     },
     "execution_count": 21,
     "metadata": {},
     "output_type": "execute_result"
    }
   ],
   "source": [
    "check_na = test_set.apply(lambda x: sum(x.isnull()),axis=0)\n",
    "check_na[check_na > 0]"
   ]
  },
  {
   "cell_type": "markdown",
   "metadata": {},
   "source": [
    "**There is no NaN value in our training set and test set.**"
   ]
  },
  {
   "cell_type": "markdown",
   "metadata": {},
   "source": [
    "### 2. Single Model <a name=\"Single_Model\"></a>"
   ]
  },
  {
   "cell_type": "markdown",
   "metadata": {},
   "source": [
    "#### 2.1 Cross-Validation  <a name=\"Cross_Validation\"></a>"
   ]
  },
  {
   "cell_type": "markdown",
   "metadata": {},
   "source": [
    "We must define a cross-validation to validate our model but also for feature engineering. The idea in cross-validation is to split the data in different part. But you have to take some minutes to define your cross-validation. Because the cross-validation validate all your reasoning. The different issues are: \n",
    "* Choosing the number of **partition K**. In a datascience competition, it is common to take a test in your cross-validation with the same size than the real test set. But thinking biais and variance problem. \n",
    "\n",
    "\n",
    "* **Imbalance Distribution**: If you have an imbalance distribution data, it could be useful to define a stratified partition. \n",
    "\n",
    "\n",
    "* **Grouped Data**: If you have some rows from a same individual. \n",
    "\n",
    "\n",
    "* **Times Series Data**: In a case of particular Time Series Data you must take into account that."
   ]
  },
  {
   "cell_type": "markdown",
   "metadata": {},
   "source": [
    "Here the interest variable is 'price'. We have unbalanced data but we cannot tackle this problem with cross-val. The dataset contains after cleaning 7,497 rows and the test 3 671, so you have a ratio of two between test and training. It is very huge and it will be difficult to find a very good accuracy with this length."
   ]
  },
  {
   "cell_type": "markdown",
   "metadata": {},
   "source": [
    "We choose a classical cross-val with 5 folds for our model. "
   ]
  },
  {
   "cell_type": "markdown",
   "metadata": {},
   "source": [
    "##### 2.1.1 Classical Cross-Validation"
   ]
  },
  {
   "cell_type": "code",
   "execution_count": 22,
   "metadata": {
    "collapsed": true
   },
   "outputs": [],
   "source": [
    "from sklearn.model_selection import KFold\n",
    "\n",
    "kf = KFold(n_splits=5)"
   ]
  },
  {
   "cell_type": "markdown",
   "metadata": {},
   "source": [
    "#### 2.2 Single Model <a name=\"Single_Model2\"></a>"
   ]
  },
  {
   "cell_type": "markdown",
   "metadata": {},
   "source": [
    "The goal is to define a single model that help to verify our choices in terms of feature engineering and modeling. So, we can use random forest for classification or regression relative to the problem that we want to solve."
   ]
  },
  {
   "cell_type": "code",
   "execution_count": 24,
   "metadata": {
    "collapsed": false
   },
   "outputs": [],
   "source": [
    "# Classification problem\n",
    "from sklearn.ensemble import RandomForestClassifier\n",
    "\n",
    "clf = RandomForestClassifier(n_estimators=10, random_state=12)\n",
    "\n",
    "# Regression problem\n",
    "from sklearn.ensemble import RandomForestRegressor\n",
    "\n",
    "reg = RandomForestRegressor(n_estimators=10, random_state=12)"
   ]
  },
  {
   "cell_type": "markdown",
   "metadata": {},
   "source": [
    "#### 2.3 Performance Metrics <a name=\"Perf\"></a>"
   ]
  },
  {
   "cell_type": "markdown",
   "metadata": {
    "collapsed": true
   },
   "source": [
    "This competition is based on the MAP error."
   ]
  },
  {
   "cell_type": "code",
   "execution_count": 25,
   "metadata": {
    "collapsed": true
   },
   "outputs": [],
   "source": [
    "# Mean Absolute Percentage Error\n",
    "def mape_error(y_true, y_pred): \n",
    "    return np.mean(np.abs((y_true - y_pred) / y_true)) * 100"
   ]
  },
  {
   "cell_type": "markdown",
   "metadata": {},
   "source": [
    "#### 2.4 Single Model Function <a name=\"Single_function\"></a>"
   ]
  },
  {
   "cell_type": "code",
   "execution_count": 27,
   "metadata": {
    "collapsed": false
   },
   "outputs": [],
   "source": [
    "from sklearn.ensemble import RandomForestRegressor\n",
    "from sklearn.cross_validation import KFold\n",
    "\n",
    "def SingleModelTest(train_X, train_Y):\n",
    "    err = 0\n",
    "    K_Fold = 5\n",
    "\n",
    "    for train_index, test_index in KFold(train_X.shape[0], n_folds=K_Fold):\n",
    "        X_train, X_test = train_X.ix[train_index, :], train_X.ix[test_index, :]\n",
    "        y_train, y_test = train_Y[train_index], train_Y[test_index]  \n",
    "        RandomForestClassifier(n_estimators=10, random_state=12)\n",
    "        reg.fit(X_train, y_train)\n",
    "        pred = reg.predict(X_test)\n",
    "        err += mape_error(np.exp(y_test), np.exp(pred))\n",
    "        print mape_error(np.exp(y_test), np.exp(pred))\n",
    "    print \"*** MAPE Error : \",(round(err / K_Fold,2))"
   ]
  },
  {
   "cell_type": "markdown",
   "metadata": {},
   "source": [
    "### 3. Features Engineering <a name=\"Features_Engineering\"></a>"
   ]
  },
  {
   "cell_type": "markdown",
   "metadata": {
    "collapsed": true
   },
   "source": [
    "#### 3.1. Transformation of 'prix' <a name=\"Prix_transformation\"></a>"
   ]
  },
  {
   "cell_type": "markdown",
   "metadata": {
    "collapsed": true
   },
   "source": [
    "We take a classical model with just num variable and look if the log transformation is better or not. This could change our Single Model Function."
   ]
  },
  {
   "cell_type": "code",
   "execution_count": 28,
   "metadata": {
    "collapsed": false
   },
   "outputs": [
    {
     "name": "stdout",
     "output_type": "stream",
     "text": [
      "233.697729292\n",
      "192.903535297\n",
      "201.91046503\n",
      "221.342878819\n",
      "196.092098265\n",
      "*** MAPE Error :  209.19\n"
     ]
    }
   ],
   "source": [
    "train_X = train_set[feat_num]\n",
    "train_Y = train_set['prix']\n",
    "\n",
    "err = 0\n",
    "K_Fold = 5\n",
    "\n",
    "for train_index, test_index in KFold(train_X.shape[0], n_folds=K_Fold):\n",
    "    X_train, X_test = train_X.ix[train_index, :], train_X.ix[test_index, :]\n",
    "    y_train, y_test = train_Y[train_index], train_Y[test_index]  \n",
    "    reg = RandomForestRegressor(n_estimators=10, random_state=12)\n",
    "    reg.fit(X_train, y_train)\n",
    "    pred = reg.predict(X_test)\n",
    "    err += mape_error(y_test, pred)\n",
    "    print mape_error(y_test, pred)\n",
    "print \"*** MAPE Error : \",(round(err / K_Fold,2))"
   ]
  },
  {
   "cell_type": "code",
   "execution_count": 29,
   "metadata": {
    "collapsed": false
   },
   "outputs": [
    {
     "name": "stdout",
     "output_type": "stream",
     "text": [
      "106.104180607\n",
      "96.6311984948\n",
      "87.9297034146\n",
      "90.0953702836\n",
      "82.0942301854\n",
      "*** MAPE Error :  92.57\n"
     ]
    }
   ],
   "source": [
    "train_set['log_prix'] = train_set['prix'].apply(np.log)\n",
    "train_X = train_set[feat_num]\n",
    "train_Y = train_set['log_prix']\n",
    "\n",
    "err = 0\n",
    "K_Fold = 5\n",
    "\n",
    "for train_index, test_index in KFold(train_X.shape[0], n_folds=K_Fold):\n",
    "    X_train, X_test = train_X.ix[train_index, :], train_X.ix[test_index, :]\n",
    "    y_train, y_test = train_Y[train_index], train_Y[test_index]  \n",
    "    reg = RandomForestRegressor(n_estimators=10, random_state=12)\n",
    "    reg.fit(X_train, y_train)\n",
    "    pred = reg.predict(X_test)\n",
    "    err += mape_error(np.exp(y_test), np.exp(pred))\n",
    "    print mape_error(np.exp(y_test), np.exp(pred))\n",
    "print \"*** MAPE Error : \",(round(err / K_Fold,2))"
   ]
  },
  {
   "cell_type": "markdown",
   "metadata": {},
   "source": [
    "** So the log-transformation is clearly better, we implement that in the single model function **"
   ]
  },
  {
   "cell_type": "markdown",
   "metadata": {},
   "source": [
    "#### 3.2. Date variables <a name=\"Date\"></a>"
   ]
  },
  {
   "cell_type": "code",
   "execution_count": 30,
   "metadata": {
    "collapsed": false
   },
   "outputs": [
    {
     "name": "stdout",
     "output_type": "stream",
     "text": [
      "106.104180607\n",
      "96.6311984948\n",
      "87.9297034146\n",
      "90.0953702836\n",
      "82.0942301854\n",
      "*** MAPE Error :  92.57\n"
     ]
    }
   ],
   "source": [
    "train_X = train_set[feat_num]\n",
    "train_Y = train_set['log_prix']\n",
    "SingleModelTest(train_X, train_Y)"
   ]
  },
  {
   "cell_type": "code",
   "execution_count": 31,
   "metadata": {
    "collapsed": false
   },
   "outputs": [
    {
     "name": "stdout",
     "output_type": "stream",
     "text": [
      "90.1974442469\n",
      "94.4514425631\n",
      "105.887333569\n",
      "83.3454620189\n",
      "96.304606034\n",
      "*** MAPE Error :  94.04\n"
     ]
    }
   ],
   "source": [
    "train_X = train_set[feat_num+feat_dates]\n",
    "train_Y = train_set['log_prix']\n",
    "SingleModelTest(train_X, train_Y)"
   ]
  },
  {
   "cell_type": "markdown",
   "metadata": {},
   "source": [
    "If we transform the date features."
   ]
  },
  {
   "cell_type": "code",
   "execution_count": 32,
   "metadata": {
    "collapsed": false
   },
   "outputs": [
    {
     "data": {
      "text/plain": [
       "['date declar annee', 'date amm annee']"
      ]
     },
     "execution_count": 32,
     "metadata": {},
     "output_type": "execute_result"
    }
   ],
   "source": [
    "feat_dates"
   ]
  },
  {
   "cell_type": "code",
   "execution_count": 36,
   "metadata": {
    "collapsed": false
   },
   "outputs": [
    {
     "name": "stdout",
     "output_type": "stream",
     "text": [
      "89.9687246833\n",
      "93.3498602784\n",
      "106.975008115\n",
      "84.2973240362\n",
      "96.4150342082\n",
      "*** MAPE Error :  94.2\n"
     ]
    }
   ],
   "source": [
    "train_set['date declar annee_b'] = max(train_set['date declar annee']) - train_set['date declar annee']\n",
    "train_set['date amm annee_b'] = max(train_set['date amm annee']) - train_set['date amm annee'] \n",
    "feat_dates_b = ['date declar annee_b','date amm annee_b']\n",
    "train_X = train_set[feat_num+feat_dates_b]\n",
    "train_Y = train_set['log_prix']\n",
    "SingleModelTest(train_X, train_Y)"
   ]
  },
  {
   "cell_type": "markdown",
   "metadata": {},
   "source": [
    "Adding Date seems not to be a good things to have a better result. "
   ]
  },
  {
   "cell_type": "code",
   "execution_count": 37,
   "metadata": {
    "collapsed": false
   },
   "outputs": [
    {
     "name": "stdout",
     "output_type": "stream",
     "text": [
      "114.6802307\n",
      "85.7850185881\n",
      "97.0735805146\n",
      "93.8136919259\n",
      "93.9328309838\n",
      "*** MAPE Error :  97.06\n"
     ]
    }
   ],
   "source": [
    "train_set['data_diff_declar_amm']=train_set['date amm annee_b']-train_set['date declar annee_b']\n",
    "train_X = train_set[feat_num+['data_diff_declar_amm']]\n",
    "train_Y = train_set['log_prix']\n",
    "SingleModelTest(train_X, train_Y)"
   ]
  },
  {
   "cell_type": "markdown",
   "metadata": {},
   "source": [
    "** So adding date variable do not bring more relevant information.**"
   ]
  },
  {
   "cell_type": "markdown",
   "metadata": {},
   "source": [
    "#### 3.3. Categorical Features <a name=\"CatFeat\"></a>"
   ]
  },
  {
   "cell_type": "markdown",
   "metadata": {},
   "source": [
    "##### 3.3.1. The combinaison of the features"
   ]
  },
  {
   "cell_type": "markdown",
   "metadata": {},
   "source": [
    "We test to find the best combination of the categorical features."
   ]
  },
  {
   "cell_type": "code",
   "execution_count": 38,
   "metadata": {
    "collapsed": false
   },
   "outputs": [
    {
     "data": {
      "text/plain": [
       "['statut',\n",
       " 'etat commerc',\n",
       " 'agrement col',\n",
       " 'tx rembours',\n",
       " 'voies admin',\n",
       " 'statut admin',\n",
       " 'type proc']"
      ]
     },
     "execution_count": 38,
     "metadata": {},
     "output_type": "execute_result"
    }
   ],
   "source": [
    "feat_cat "
   ]
  },
  {
   "cell_type": "code",
   "execution_count": 62,
   "metadata": {
    "collapsed": false
   },
   "outputs": [
    {
     "name": "stdout",
     "output_type": "stream",
     "text": [
      "68.932642482\n",
      "67.7011931453\n",
      "69.1111382552\n",
      "60.2714616304\n",
      "66.1363363439\n",
      "*** MAPE Error :  66.43\n"
     ]
    }
   ],
   "source": [
    "train_X = train_set[feat_num+feat_cat]\n",
    "train_X = pd.get_dummies(train_X,drop_first=True)\n",
    "train_Y = train_set['log_prix']\n",
    "SingleModelTest(train_X, train_Y)"
   ]
  },
  {
   "cell_type": "code",
   "execution_count": 61,
   "metadata": {
    "collapsed": false
   },
   "outputs": [
    {
     "name": "stdout",
     "output_type": "stream",
     "text": [
      "66.6120756132\n",
      "67.1865847579\n",
      "67.0868711335\n",
      "59.7789847386\n",
      "64.4290445183\n",
      "*** MAPE Error :  65.02\n"
     ]
    }
   ],
   "source": [
    "train_X = train_set[feat_num+['type proc','voies admin','tx rembours','statut admin']]\n",
    "train_X = pd.get_dummies(train_X,drop_first=True)\n",
    "train_Y = train_set['log_prix']\n",
    "SingleModelTest(train_X, train_Y)"
   ]
  },
  {
   "cell_type": "code",
   "execution_count": 66,
   "metadata": {
    "collapsed": true
   },
   "outputs": [],
   "source": [
    "feat_cat_b = ['type proc','voies admin','tx rembours','statut admin']"
   ]
  },
  {
   "cell_type": "markdown",
   "metadata": {},
   "source": [
    "** After some tests in terms of prediction, feat_cat_b is the vector that contains the best combination of the categorical features**"
   ]
  },
  {
   "cell_type": "markdown",
   "metadata": {},
   "source": [
    "##### 3.3.2. The particular case of 'tx rembours'"
   ]
  },
  {
   "cell_type": "markdown",
   "metadata": {},
   "source": [
    "Is it better to consider 'tx rembours' as a categorical variable or as a numeric variable ?"
   ]
  },
  {
   "cell_type": "code",
   "execution_count": 42,
   "metadata": {
    "collapsed": false
   },
   "outputs": [],
   "source": [
    "train_set['tx rembours_num'] = [int(x.replace(\"%\", \"\")) for x in train_set[\"tx rembours\"]]"
   ]
  },
  {
   "cell_type": "code",
   "execution_count": 46,
   "metadata": {
    "collapsed": false
   },
   "outputs": [
    {
     "name": "stdout",
     "output_type": "stream",
     "text": [
      "61.286844148\n",
      "58.4343880804\n",
      "58.8482537745\n",
      "57.5694959048\n",
      "57.6138647856\n",
      "*** MAPE Error :  58.75\n"
     ]
    }
   ],
   "source": [
    "train_X = train_set[feat_num+feat_cat_b]\n",
    "train_X = pd.get_dummies(train_X,drop_first=True)\n",
    "train_Y = train_set['log_prix']\n",
    "SingleModelTest(train_X, train_Y)"
   ]
  },
  {
   "cell_type": "code",
   "execution_count": 44,
   "metadata": {
    "collapsed": false
   },
   "outputs": [
    {
     "name": "stdout",
     "output_type": "stream",
     "text": [
      "60.5169391915\n",
      "59.2215515452\n",
      "59.7778051454\n",
      "57.8840465037\n",
      "57.3982320106\n",
      "*** MAPE Error :  58.96\n"
     ]
    }
   ],
   "source": [
    "train_X = train_set[feat_num+['type proc','voies admin','tx rembours_num','statut admin','forme pharma']]\n",
    "train_X = pd.get_dummies(train_X,drop_first=True)\n",
    "train_Y = train_set['log_prix']\n",
    "SingleModelTest(train_X, train_Y)"
   ]
  },
  {
   "cell_type": "markdown",
   "metadata": {},
   "source": [
    "**This is unclear that increase the performance. So we keep 'tx rembours' as a categorical variable. **"
   ]
  },
  {
   "cell_type": "markdown",
   "metadata": {},
   "source": [
    "#### 3.4. Text variables  <a name=\"Text\"></a>"
   ]
  },
  {
   "cell_type": "code",
   "execution_count": 79,
   "metadata": {
    "collapsed": false
   },
   "outputs": [
    {
     "data": {
      "text/plain": [
       "['libelle', 'titulaires', 'substances']"
      ]
     },
     "execution_count": 79,
     "metadata": {},
     "output_type": "execute_result"
    }
   ],
   "source": [
    "feat_text"
   ]
  },
  {
   "cell_type": "markdown",
   "metadata": {},
   "source": [
    "##### 3.4.1. substances"
   ]
  },
  {
   "cell_type": "markdown",
   "metadata": {},
   "source": [
    "To use substances as a feature, we transform this variable."
   ]
  },
  {
   "cell_type": "code",
   "execution_count": 45,
   "metadata": {
    "collapsed": false
   },
   "outputs": [
    {
     "name": "stdout",
     "output_type": "stream",
     "text": [
      "1675\n"
     ]
    }
   ],
   "source": [
    "distinctCategs = (train_set['substances']\n",
    "                  .apply(lambda col_value : col_value.split(', '))\n",
    "                  .apply(pd.Series)\n",
    "                  .unstack()\n",
    "                  .dropna()\n",
    "                  .unique())\n",
    "\n",
    "feat_substances = [value for value in distinctCategs]\n",
    "print len(feat_substances)\n",
    "for distinctCateg in distinctCategs:\n",
    "    train_set[distinctCateg] = train_set['substances'].apply(lambda x : 1 if distinctCateg in x else 0)"
   ]
  },
  {
   "cell_type": "code",
   "execution_count": 67,
   "metadata": {
    "collapsed": false
   },
   "outputs": [
    {
     "name": "stdout",
     "output_type": "stream",
     "text": [
      "31.6721450763\n",
      "35.5842147923\n",
      "33.2980363164\n",
      "33.8590340957\n",
      "34.1893886963\n",
      "*** MAPE Error :  33.72\n"
     ]
    }
   ],
   "source": [
    "train_X = train_set[feat_num+feat_cat_b+feat_substances]\n",
    "train_X = pd.get_dummies(train_X,drop_first=True)\n",
    "train_Y = train_set['log_prix']\n",
    "SingleModelTest(train_X, train_Y)"
   ]
  },
  {
   "cell_type": "markdown",
   "metadata": {},
   "source": [
    "Other way to treat the feature 'substances', as we can see substances have some words between parentheses, we choose to remove this. "
   ]
  },
  {
   "cell_type": "code",
   "execution_count": 48,
   "metadata": {
    "collapsed": false
   },
   "outputs": [],
   "source": [
    "substance_n = [value.encode('utf8') for value in train_set['substances']]\n",
    "substance_n = pd.Series(substance_n)\n",
    "list_sc = [',','(',')','))','((']\n",
    "for carac in list_sc:\n",
    "    substance_n = substance_n.map(lambda value: str.replace(value, carac, \"\"))\n",
    "substance_n = [value.decode('utf8') for value in substance_n]\n",
    "train_set['substances_n'] = substance_n"
   ]
  },
  {
   "cell_type": "code",
   "execution_count": 68,
   "metadata": {
    "collapsed": false
   },
   "outputs": [],
   "source": [
    "distinctCategs = (train_set['substances_n']\n",
    "                  .apply(lambda col_value : col_value.split(' '))\n",
    "                  .apply(pd.Series)\n",
    "                  .unstack()\n",
    "                  .dropna()\n",
    "                  .unique())\n",
    "\n",
    "feat_substances_n = [value for value in distinctCategs]\n",
    "\n",
    "for distinctCateg in distinctCategs:\n",
    "    train_set[distinctCateg] = train_set['substances_n'].apply(lambda x : 1 if distinctCateg in x else 0)"
   ]
  },
  {
   "cell_type": "code",
   "execution_count": 69,
   "metadata": {
    "collapsed": false
   },
   "outputs": [
    {
     "name": "stdout",
     "output_type": "stream",
     "text": [
      "31.7824245891\n",
      "35.3521218735\n",
      "32.3884276792\n",
      "34.2250022868\n",
      "35.376652803\n",
      "*** MAPE Error :  33.82\n"
     ]
    }
   ],
   "source": [
    "train_X = train_set[feat_num+feat_cat_b+feat_substances_n]\n",
    "train_X = pd.get_dummies(train_X,drop_first=True)\n",
    "train_Y = train_set['log_prix']\n",
    "SingleModelTest(train_X, train_Y)"
   ]
  },
  {
   "cell_type": "markdown",
   "metadata": {},
   "source": [
    "** We can remark when you incorporate substances as a feature this increase a lot the performance of the model ! We keep the first transformation because the MAP performance is better.**"
   ]
  },
  {
   "cell_type": "markdown",
   "metadata": {},
   "source": [
    "##### 3.4.2. forme pharma"
   ]
  },
  {
   "cell_type": "markdown",
   "metadata": {},
   "source": [
    "We can encode forme pharma with different forms: \n",
    "* As a categorical variable directly\n",
    "* Using transformation to separate the text (this method add all of information)"
   ]
  },
  {
   "cell_type": "code",
   "execution_count": 51,
   "metadata": {
    "collapsed": false
   },
   "outputs": [
    {
     "data": {
      "text/plain": [
       "190"
      ]
     },
     "execution_count": 51,
     "metadata": {},
     "output_type": "execute_result"
    }
   ],
   "source": [
    "len(train_set['forme pharma'].unique())"
   ]
  },
  {
   "cell_type": "code",
   "execution_count": 72,
   "metadata": {
    "collapsed": false
   },
   "outputs": [
    {
     "name": "stdout",
     "output_type": "stream",
     "text": [
      "31.5749034448\n",
      "34.8310684086\n",
      "34.1575340872\n",
      "33.6017086211\n",
      "33.037336659\n",
      "*** MAPE Error :  33.44\n"
     ]
    }
   ],
   "source": [
    "train_X = train_set[feat_num+feat_cat_b+feat_substances+['forme pharma']]\n",
    "train_X = pd.get_dummies(train_X,drop_first=True)\n",
    "train_Y = train_set['log_prix']\n",
    "SingleModelTest(train_X, train_Y)"
   ]
  },
  {
   "cell_type": "code",
   "execution_count": 73,
   "metadata": {
    "collapsed": false
   },
   "outputs": [
    {
     "name": "stdout",
     "output_type": "stream",
     "text": [
      "30.877171184\n",
      "33.8349743768\n",
      "34.7604285401\n",
      "34.4769202092\n",
      "33.2787404544\n",
      "*** MAPE Error :  33.45\n"
     ]
    }
   ],
   "source": [
    "distinctCategs = (train_set['forme pharma']\n",
    "                  .apply(lambda col_value : col_value.split(','))\n",
    "                  .apply(pd.Series)\n",
    "                  .unstack()\n",
    "                  .dropna()\n",
    "                  .unique())\n",
    "\n",
    "feat_forme_pharma = [value for value in distinctCategs]\n",
    "\n",
    "for distinctCateg in distinctCategs:\n",
    "    train_set[distinctCateg] = train_set['forme pharma'].apply(lambda x : 1 if distinctCateg in x else 0)\n",
    "    \n",
    "train_X = train_set[feat_num+feat_cat_b+feat_substances+feat_forme_pharma]\n",
    "train_X = pd.get_dummies(train_X,drop_first=True)\n",
    "train_Y = train_set['log_prix']\n",
    "SingleModelTest(train_X, train_Y)"
   ]
  },
  {
   "cell_type": "markdown",
   "metadata": {},
   "source": [
    "**The model is improved relative to previously. The difference between the two way to proceed is unclear, we choose to transform forme pharma as a categorical variable.**"
   ]
  },
  {
   "cell_type": "markdown",
   "metadata": {},
   "source": [
    "##### 3.4.3. titulaires"
   ]
  },
  {
   "cell_type": "code",
   "execution_count": 74,
   "metadata": {
    "collapsed": false
   },
   "outputs": [
    {
     "data": {
      "text/plain": [
       "325"
      ]
     },
     "execution_count": 74,
     "metadata": {},
     "output_type": "execute_result"
    }
   ],
   "source": [
    "len(train_set['titulaires'].unique())"
   ]
  },
  {
   "cell_type": "code",
   "execution_count": 75,
   "metadata": {
    "collapsed": true
   },
   "outputs": [],
   "source": [
    "distinctCategs = (train_set['titulaires']\n",
    "                  .apply(lambda col_value : col_value.split(' '))\n",
    "                  .apply(pd.Series)\n",
    "                  .unstack()\n",
    "                  .dropna()\n",
    "                  .unique())\n",
    "\n",
    "feat_titulaires = [value for value in distinctCategs]\n",
    "\n",
    "for distinctCateg in feat_titulaires:\n",
    "    train_set[distinctCateg] = train_set['titulaires'].apply(lambda x : 1 if distinctCateg in x else 0)"
   ]
  },
  {
   "cell_type": "code",
   "execution_count": 76,
   "metadata": {
    "collapsed": false
   },
   "outputs": [
    {
     "name": "stdout",
     "output_type": "stream",
     "text": [
      "36.1340015139\n",
      "36.018909698\n",
      "36.1862746263\n",
      "35.1858842987\n",
      "35.7055500087\n",
      "*** MAPE Error :  35.85\n"
     ]
    }
   ],
   "source": [
    "train_X = train_set[feat_num+feat_cat_b+feat_substances+['forme pharma']+feat_titulaires]\n",
    "train_X = pd.get_dummies(train_X,drop_first=True)\n",
    "train_Y = train_set['log_prix']\n",
    "SingleModelTest(train_X, train_Y)"
   ]
  },
  {
   "cell_type": "markdown",
   "metadata": {},
   "source": [
    "**This feature does not improve the model.**"
   ]
  },
  {
   "cell_type": "markdown",
   "metadata": {},
   "source": [
    "##### 3.4.4. libelle"
   ]
  },
  {
   "cell_type": "code",
   "execution_count": 77,
   "metadata": {
    "collapsed": false
   },
   "outputs": [
    {
     "data": {
      "text/plain": [
       "2575"
      ]
     },
     "execution_count": 77,
     "metadata": {},
     "output_type": "execute_result"
    }
   ],
   "source": [
    "len(train_set['libelle'].unique())"
   ]
  },
  {
   "cell_type": "code",
   "execution_count": 78,
   "metadata": {
    "collapsed": true
   },
   "outputs": [],
   "source": [
    "distinctCategs = (train_set['libelle']\n",
    "                  .apply(lambda col_value : col_value.split(' '))\n",
    "                  .apply(pd.Series)\n",
    "                  .unstack()\n",
    "                  .dropna()\n",
    "                  .unique())\n",
    "\n",
    "feat_libelle = [value for value in distinctCategs]\n",
    "\n",
    "for distinctCateg in distinctCategs:\n",
    "    train_set[distinctCateg] = train_set['libelle'].apply(lambda x : 1 if distinctCateg in x else 0)"
   ]
  },
  {
   "cell_type": "code",
   "execution_count": 80,
   "metadata": {
    "collapsed": false
   },
   "outputs": [
    {
     "name": "stdout",
     "output_type": "stream",
     "text": [
      "35.196984893\n",
      "38.0346123197\n",
      "37.2942303971\n",
      "37.5560242556\n",
      "33.6943586726\n",
      "*** MAPE Error :  36.36\n"
     ]
    }
   ],
   "source": [
    "train_X = train_set[feat_num+feat_cat_b+feat_substances+['forme pharma']+feat_libelle]\n",
    "train_X = pd.get_dummies(train_X)\n",
    "train_Y = train_set['log_prix']\n",
    "SingleModelTest(train_X, train_Y)"
   ]
  },
  {
   "cell_type": "markdown",
   "metadata": {},
   "source": [
    "Are there substances information in the variable libelle ?"
   ]
  },
  {
   "cell_type": "code",
   "execution_count": 81,
   "metadata": {
    "collapsed": false
   },
   "outputs": [
    {
     "data": {
      "text/plain": [
       "[u'3',\n",
       " u'1',\n",
       " u'2',\n",
       " u'5',\n",
       " u'6',\n",
       " u'16',\n",
       " u'-',\n",
       " u'',\n",
       " u':',\n",
       " u'18',\n",
       " u'LA',\n",
       " u'A',\n",
       " u'B',\n",
       " u'11']"
      ]
     },
     "execution_count": 81,
     "metadata": {},
     "output_type": "execute_result"
    }
   ],
   "source": [
    "[value for value in feat_libelle if value in feat_substances_n]"
   ]
  },
  {
   "cell_type": "markdown",
   "metadata": {},
   "source": [
    "Clearly these variable are non-relevant."
   ]
  },
  {
   "cell_type": "markdown",
   "metadata": {},
   "source": [
    "#### 3.5 Other Features Engineering"
   ]
  },
  {
   "cell_type": "markdown",
   "metadata": {},
   "source": [
    "Multiplying number of ml by the number of the recipents. "
   ]
  },
  {
   "cell_type": "code",
   "execution_count": 87,
   "metadata": {
    "collapsed": false
   },
   "outputs": [],
   "source": [
    "nb = ['nb_plaquette',\n",
    " 'nb_ampoule',\n",
    " 'nb_flacon',\n",
    " 'nb_tube',\n",
    " 'nb_stylo',\n",
    " 'nb_seringue',\n",
    " 'nb_pilulier',\n",
    " 'nb_sachet',\n",
    " 'nb_comprime',\n",
    " 'nb_gelule',\n",
    " 'nb_film',\n",
    " 'nb_poche',\n",
    " 'nb_capsule']\n",
    "\n",
    "multi = train_set[nb].sum(axis=1)\n",
    "train_set['ml_all_product'] = multi*train_set['nb_ml']"
   ]
  },
  {
   "cell_type": "code",
   "execution_count": 89,
   "metadata": {
    "collapsed": false
   },
   "outputs": [
    {
     "name": "stdout",
     "output_type": "stream",
     "text": [
      "31.6339363692\n",
      "35.4195339387\n",
      "33.6857304527\n",
      "33.1943690465\n",
      "33.4298816467\n",
      "*** MAPE Error :  33.47\n"
     ]
    }
   ],
   "source": [
    "train_X = train_set[feat_num+feat_cat_b+feat_substances+['forme pharma']+['ml_all_product']]\n",
    "train_X = pd.get_dummies(train_X)\n",
    "train_Y = train_set['log_prix']\n",
    "SingleModelTest(train_X, train_Y)"
   ]
  },
  {
   "cell_type": "markdown",
   "metadata": {},
   "source": [
    "Remember the best performance was 33.45. So, this is not improve the model. "
   ]
  },
  {
   "cell_type": "markdown",
   "metadata": {},
   "source": [
    "#### 3.5. The Parse Method <a name=\"Parse\"></a>"
   ]
  },
  {
   "cell_type": "markdown",
   "metadata": {},
   "source": [
    "Now we implement the transformation that we test before. To have the best set of features to optimize. We choose to re-implement all of the relevant code that we use before to execute just one function. "
   ]
  },
  {
   "cell_type": "code",
   "execution_count": 90,
   "metadata": {
    "collapsed": false
   },
   "outputs": [
    {
     "name": "stdout",
     "output_type": "stream",
     "text": [
      "TRAIN (7497, 42)\n",
      "TEST  (3671, 42)\n",
      "BIG  (11168, 43)\n",
      "_______________________________________________________________________________________________\n",
      "__________________________________________ Features __________________________________________\n",
      "DELETE    :   ['titulaires', 'id', 'libelle', 'statut', 'etat commerc', 'agrement col', 'date declar annee', 'date amm annee']\n",
      "DUMMY     :   ['tx rembours', 'voies admin', 'statut admin', 'type proc', 'forme pharma']\n",
      "ENCODE    :   []\n",
      "TRANSFORM :   ['prix', 'substances']\n",
      "_______________________________________________________________________________________________\n",
      "__________________________________________ PARSE __________________________________________\n",
      "-->  08-11-2016 : 11:09\n",
      "BEFORE :  (11168, 43)\n",
      "---Feature to delete \n",
      "---Feature to Transform \n",
      "---Feature to dummy \n",
      "--> 08-11-2016 : 11:09 Elapsed time :13 s\n",
      "AFTER TRAIN : (7497, 2490)\n",
      "AFTER TEST : (3671, 2490)\n"
     ]
    }
   ],
   "source": [
    "## Libraries\n",
    "import datetime, sys\n",
    "import pandas as pd\n",
    "import numpy as np\n",
    "import seaborn as sns\n",
    "import matplotlib.pyplot as plt\n",
    "from sklearn.feature_selection import VarianceThreshold\n",
    "%matplotlib inline \n",
    "\n",
    "\n",
    "## Importation of data\n",
    "train = pd.read_csv('Data/boites_medicaments_train.csv',encoding='utf8',sep=';')\n",
    "test = pd.read_csv('Data/boites_medicaments_test.csv',encoding='utf8', sep=';')\n",
    "\n",
    "\n",
    "#List of features\n",
    "\n",
    "#Interest variable\n",
    "y_var = ['prix']\n",
    "\n",
    "# features numériques\n",
    "feat_num = ['libelle_plaquette', 'libelle_ampoule', 'libelle_flacon', \n",
    "            'libelle_tube', 'libelle_stylo', 'libelle_seringue',\n",
    "            'libelle_pilulier', 'libelle_sachet', 'libelle_comprime', \n",
    "            'libelle_gelule', 'libelle_film', 'libelle_poche',\n",
    "            'libelle_capsule'] + ['nb_plaquette', 'nb_ampoule', \n",
    "            'nb_flacon', 'nb_tube', 'nb_stylo', 'nb_seringue',\n",
    "            'nb_pilulier', 'nb_sachet', 'nb_comprime', 'nb_gelule', \n",
    "            'nb_film', 'nb_poche', 'nb_capsule', 'nb_ml']\n",
    "\n",
    "# features date\n",
    "feat_dates = ['date declar annee', 'date amm annee']\n",
    "\n",
    "# features catégorielles\n",
    "feat_cat = ['statut', 'etat commerc', 'agrement col', 'tx rembours',\n",
    "          'voies admin', 'statut admin', 'type proc','forme pharma']\n",
    "\n",
    "# features texte\n",
    "feat_text = ['libelle', 'titulaires', 'substances']\n",
    "\n",
    "\n",
    "# All features vector\n",
    "feat_all = feat_num + feat_dates + feat_cat + feat_text\n",
    "\n",
    "# Mean Absolute Percentage Error\n",
    "def mape_error(y_true, y_pred): \n",
    "    return np.mean(np.abs((y_true - y_pred) / y_true)) * 100\n",
    "\n",
    "### Duplicates\n",
    "train.drop_duplicates(keep='first',inplace=True)\n",
    "\n",
    "train_1 = train[train[feat_all].duplicated(keep=False)==False]\n",
    "\n",
    "duplicated_features = train[train[feat_all].duplicated(keep=False)==True]\n",
    "agg_duplicated = duplicated_features.groupby(by=feat_all).mean()\n",
    "agg_duplicated = agg_duplicated.reset_index()\n",
    "\n",
    "train = train_1.append(agg_duplicated)\n",
    "train.reset_index(drop=True,inplace=True)\n",
    "\n",
    "train['SOURCE'] = 'TRAIN'\n",
    "test['SOURCE'] = 'TEST'\n",
    "BIG = pd.concat([train, test], axis=0)\n",
    "BIG.reset_index(drop=True,inplace=True)\n",
    "#BIG = train.copy()\n",
    "print \"TRAIN\", train.shape\n",
    "print \"TEST \", test.shape\n",
    "print \"BIG \", BIG.shape\n",
    "\n",
    "featToDel = ['titulaires','id','libelle','statut', 'etat commerc','agrement col',\n",
    "             'date declar annee', 'date amm annee']\n",
    "\n",
    "featToDummy = ['tx rembours','voies admin', 'statut admin', 'type proc','forme pharma']\n",
    "\n",
    "featToTransform = ['prix','substances']\n",
    "\n",
    "featToEncode = []\n",
    "\n",
    "config = {\"featToDel\":featToDel,\n",
    "          \"featToDummy\":featToDummy,\n",
    "          \"featToEncode\":featToEncode,\n",
    "          \"featToTransform\":featToTransform}\n",
    "print '_______________________________________________________________________________________________'\n",
    "print '__________________________________________ Features __________________________________________'\n",
    "print \"DELETE    :  \", featToDel\n",
    "print \"DUMMY     :  \", featToDummy\n",
    "print \"ENCODE    :  \", featToEncode\n",
    "print \"TRANSFORM :  \", featToTransform\n",
    "print '_______________________________________________________________________________________________'\n",
    "\n",
    "def parse(X, config, silent=False) :\n",
    "    start = datetime.datetime.today().now()\n",
    "    if not silent:\n",
    "        print '__________________________________________ PARSE __________________________________________'\n",
    "        print '--> ', start.strftime('%d-%m-%Y : %H:%M')\n",
    "        print 'BEFORE : ', X.shape\n",
    "        \n",
    "    print \"---Feature to delete \"\n",
    "    #Feature to delete\n",
    "    featToDel = config[\"featToDel\"]\n",
    "    X.drop(featToDel, axis =1, inplace=True)\n",
    "     \n",
    "    print \"---Feature to Transform \"    \n",
    "    if \"substances\" in config[\"featToTransform\"]:\n",
    "        distinctCategs = (X[X['SOURCE'] == 'TRAIN']['substances']\n",
    "                  .apply(lambda col_value : col_value.split(','))\n",
    "                  .apply(pd.Series)\n",
    "                  .unstack()\n",
    "                  .dropna()\n",
    "                  .unique())\n",
    "        \n",
    "        for distinctCateg in distinctCategs:\n",
    "            X[distinctCateg] = X['substances'].apply(lambda x : 1 if distinctCateg in x else 0)\n",
    "        \n",
    "        X.drop(\"substances\", axis =1, inplace=True)\n",
    "    \n",
    "    \n",
    "    \"\"\"if \"libelle\" in config[\"featToTransform\"]:\n",
    "        distinctCategs_b = (X[X['SOURCE'] == 'TRAIN']['libelle']\n",
    "                  .apply(lambda col_value : col_value.split(' '))\n",
    "                  .apply(pd.Series)\n",
    "                  .unstack()\n",
    "                  .dropna()\n",
    "                  .unique())\n",
    "        \n",
    "        feat_libelle = [value for value in distinctCategs_b]\n",
    "\n",
    "        for distinctCateg in feat_libelle:\n",
    "            X[distinctCateg] = X['libelle'].apply(lambda x : 1 if distinctCateg in x else 0)  \n",
    "        \n",
    "        X.drop(\"libelle\", axis =1, inplace=True)\n",
    "        \n",
    "    if \"titulaires\" in config[\"featToTransform\"]:\n",
    "        distinctCategs = (X['titulaires']\n",
    "                  .apply(lambda col_value : col_value.split(' '))\n",
    "                  .apply(pd.Series)\n",
    "                  .unstack()\n",
    "                  .dropna()\n",
    "                  .unique())\n",
    "\n",
    "        for distinctCateg in distinctCategs:\n",
    "            X[distinctCateg] = X['titulaires'].apply(lambda x : 1 if distinctCateg in x else 0)\n",
    "        \n",
    "        X.drop(\"titulaires\", axis =1, inplace=True)       \n",
    "\n",
    "    if \"forme pharma\" in config[\"featToTransform\"]:\n",
    "        distinctCategs = (X['forme pharma']\n",
    "                  .apply(lambda col_value : col_value.split(' '))\n",
    "                  .apply(pd.Series)\n",
    "                  .unstack()\n",
    "                  .dropna()\n",
    "                  .unique())\n",
    "\n",
    "        for distinctCateg in distinctCategs:\n",
    "            X[distinctCateg] = X['forme pharma'].apply(lambda x : 1 if distinctCateg in x else 0)\n",
    "        \n",
    "        X.drop(\"forme pharma\", axis =1, inplace=True)\"\"\"\n",
    "        \n",
    "    if \"prix\" in config[\"featToTransform\"]:\n",
    "        X[\"log_prix\"] = X[\"prix\"].apply(np.log)\n",
    "    del X[\"prix\"]\n",
    "    \n",
    "    \n",
    "    \n",
    "    print \"---Feature to dummy \"\n",
    "    #Feature to dummy\n",
    "    featToDummy = config[\"featToDummy\"]\n",
    "    if featToDummy:\n",
    "        dums = pd.get_dummies(X[featToDummy],drop_first=True)\n",
    "        X = pd.concat([X, dums], axis=1)\n",
    "        X.drop(featToDummy, axis =1, inplace=True)\n",
    "        \n",
    "    y_train = X[X['SOURCE'] == 'TRAIN'][\"log_prix\"]\n",
    "    del X['log_prix']\n",
    "    \n",
    "    #Suppress columns non-using\n",
    "    X_tr = X[X['SOURCE'] == 'TRAIN']\n",
    "    del X_tr['SOURCE']\n",
    "    select1 = VarianceThreshold()\n",
    "    select1.fit_transform(X_tr) \n",
    "    n_col_tr_f = np.where(select1.get_support()==False)\n",
    "    n_col_tr_f = X_tr.columns.values[n_col_tr_f]\n",
    "\n",
    "    \"\"\"\n",
    "    X_te = X[X['SOURCE'] == 'TEST']\n",
    "    del X_te['SOURCE']\n",
    "    select2 = VarianceThreshold()\n",
    "    select2.fit_transform(X_te) \n",
    "    n_col_te_f = np.where(select2.get_support()==False)\n",
    "    n_col_te_f = X_te.columns.values[n_col_te_f]\n",
    "    \n",
    "    n_col_f = np.append(n_col_tr_f,n_col_te_f)\n",
    "    n_col_f = set(n_col_f)\"\"\"\n",
    "    \n",
    "    for features in n_col_tr_f:\n",
    "        del X[features]\n",
    "    \n",
    "\n",
    "    X_train = X[X['SOURCE'] == 'TRAIN']\n",
    "    X_test = X[X['SOURCE'] == 'TEST']    \n",
    "    del X_test['SOURCE']\n",
    "    del X_train['SOURCE']\n",
    "    \n",
    "    if not silent:\n",
    "        print '%s Elapsed time :%d s' % (datetime.datetime.today().now().strftime('--> %d-%m-%Y : %H:%M'), \n",
    "        (datetime.datetime.today().now().now() - start).total_seconds())\n",
    "        print 'AFTER TRAIN :', X_train.shape\n",
    "        print 'AFTER TEST :', X_test.shape\n",
    "        sys.stdout.flush()\n",
    "    \n",
    "    return X_train, X_test, y_train\n",
    "X_train, X_test, y_train = parse(BIG.copy(), config)"
   ]
  },
  {
   "cell_type": "markdown",
   "metadata": {},
   "source": [
    "### 4. Diverse Models Optimisation <a name=\"Model\"></a>"
   ]
  },
  {
   "cell_type": "markdown",
   "metadata": {},
   "source": [
    "Now we decide to optimize some ML models with with our data after the Parse Method."
   ]
  },
  {
   "cell_type": "markdown",
   "metadata": {},
   "source": [
    "#### 4.1 Gradient Boosting <a name=\"GBR\"></a>"
   ]
  },
  {
   "cell_type": "code",
   "execution_count": null,
   "metadata": {
    "collapsed": true
   },
   "outputs": [],
   "source": [
    "from sklearn.cross_validation import KFold\n",
    "from sklearn.ensemble import GradientBoostingRegressor\n",
    "\n",
    "NBROUND = 5\n",
    "n_estimator = [250]\n",
    "max_depth = [10,50,100,500]\n",
    "min_sample_split = [1,2,5,10]\n",
    "learning_rate = [.5,.1,.01]\n",
    "\n",
    "\n",
    "for n in n_estimator:\n",
    "    for max_d in max_depth:\n",
    "        for min_sam in min_sample_split:\n",
    "            for learn_rate in learning_rate:\n",
    "                err = 0\n",
    "                params = {'n_estimators': n, 'max_depth': max_d, 'min_samples_split': min_sam,\n",
    "                          'learning_rate': learn_rate,'random_state': 1024, 'subsample': 0.5,'loss':'huber'}\n",
    "\n",
    "                for train_index, test_index in KFold(X_train.shape[0], n_folds=NBROUND):\n",
    "                    X_train_cv, X_test_cv = X_train.ix[train_index, :], X_train.ix[test_index, :]\n",
    "                    y_train_cv, y_test_cv = y_train[train_index], y_train[test_index]  \n",
    "                    reg = GradientBoostingRegressor(**params)\n",
    "                    reg = reg.fit(X_train_cv, y_train_cv)\n",
    "                    pred_cv = reg.predict(X_test_cv)\n",
    "                    err += mape_error(np.exp(y_test_cv), np.exp(pred_cv))\n",
    "                    print mape_error(np.exp(y_test_cv), np.exp(pred_cv))\n",
    "                print (round(err / NBROUND,2), n, max_d,min_sam,learn_rate)"
   ]
  },
  {
   "cell_type": "code",
   "execution_count": null,
   "metadata": {
    "collapsed": true
   },
   "outputs": [],
   "source": [
    "from sklearn.ensemble import GradientBoostingRegressor\n",
    "\n",
    "n_estimator = 10\n",
    "max_depth = None\n",
    "min_sample_split = 1\n",
    "learning_rate = .1\n",
    "\n",
    "params = {'n_estimators': n_estimator, 'max_depth': max_depth, 'min_samples_split': min_sample_split,\n",
    "                          'learning_rate': learning_rate,'random_state': 1024}\n",
    "\n",
    "clf = GradientBoostingRegressor(**params)\n",
    "clf = clf.fit(X_train, y_train)\n",
    "\n",
    "pred = np.exp(clf.predict(X_test))\n",
    "\n",
    "pd.DataFrame({'id':range(1,len(pred)+1),'prix':pred}).to_csv('soumission_GBR_1_2.csv',\n",
    "                          sep = ';', index=False, header=True)"
   ]
  },
  {
   "cell_type": "markdown",
   "metadata": {
    "collapsed": true
   },
   "source": [
    "#### 4.2. Random Forest <a name=\"RF\"></a>"
   ]
  },
  {
   "cell_type": "code",
   "execution_count": null,
   "metadata": {
    "collapsed": true
   },
   "outputs": [],
   "source": [
    "from sklearn.ensemble import RandomForestRegressor\n",
    "from sklearn.cross_validation import KFold\n",
    "\n",
    "err = 0\n",
    "K_Fold = 5\n",
    "\n",
    "\n",
    "#X_trainb = pd.get_dummies(X_trainb)\n",
    "for train_index, test_index in KFold(X_train.shape[0], n_folds=K_Fold):\n",
    "    X_train_cv, X_test_cv = X_train.ix[train_index, :], X_train.ix[test_index, :]\n",
    "    y_train_cv, y_test_cv = y_train[train_index], y_train[test_index]  \n",
    "    reg = RandomForestRegressor(n_estimators=100, random_state=12,verbose=1)\n",
    "    reg = reg.fit(X_train_cv, y_train_cv)\n",
    "    pred_cv = reg.predict(X_test_cv)\n",
    "    err += mape_error(np.exp(y_test_cv), np.exp(pred_cv))\n",
    "    print mape_error(np.exp(y_test_cv), np.exp(pred_cv))\n",
    "print \"*** MAPE Error : \",(round(err / K_Fold,2))"
   ]
  },
  {
   "cell_type": "code",
   "execution_count": 146,
   "metadata": {
    "collapsed": false
   },
   "outputs": [],
   "source": [
    "from sklearn.ensemble import RandomForestRegressor\n",
    "\n",
    "n_estimator = 2000\n",
    "min_sample_split = 1\n",
    "\n",
    "\n",
    "params = {'n_estimators': n_estimator, 'min_samples_split': min_sample_split,'random_state': 1024}\n",
    "\n",
    "reg = RandomForestRegressor(**params)\n",
    "reg = reg.fit(X_train, y_train)\n",
    "\n",
    "pred = np.exp(reg.predict(X_test))\n",
    "\n",
    "pd.DataFrame({'id':range(1,len(pred)+1),'prix':pred}).to_csv('Results/soumission_RF_1_8b_nn.csv',\n",
    "                          sep = ';', index=False, header=True)"
   ]
  },
  {
   "cell_type": "markdown",
   "metadata": {},
   "source": [
    "#### 4.3. Extra Trees <a name=\"ET\"></a>"
   ]
  },
  {
   "cell_type": "code",
   "execution_count": null,
   "metadata": {
    "collapsed": true
   },
   "outputs": [],
   "source": [
    "from sklearn.ensemble import ExtraTreesRegressor\n",
    "from sklearn.cross_validation import KFold\n",
    "\n",
    "err = 0\n",
    "K_Fold = 5\n",
    "\n",
    "for train_index, test_index in KFold(X_train.shape[0], n_folds=K_Fold):\n",
    "    X_train_cv, X_test_cv = X_train.ix[train_index, :], X_train.ix[test_index, :]\n",
    "    y_train_cv, y_test_cv = y_train[train_index], y_train[test_index]  \n",
    "    reg = ExtraTreesRegressor(n_estimators=10, random_state=12,criterion='mse',warm_start=True,verbose=1)\n",
    "    reg.fit(X_train_cv, y_train_cv)\n",
    "    pred_cv = reg.predict(X_test_cv)\n",
    "    err += mape_error(np.exp(y_test_cv), np.exp(pred_cv))\n",
    "    print mape_error(np.exp(y_test_cv), np.exp(pred_cv))\n",
    "print \"*** MAPE Error : \",(round(err / K_Fold,2))"
   ]
  },
  {
   "cell_type": "code",
   "execution_count": 147,
   "metadata": {
    "collapsed": false
   },
   "outputs": [
    {
     "name": "stderr",
     "output_type": "stream",
     "text": [
      "[Parallel(n_jobs=1)]: Done 2000 out of 2000 | elapsed: 35.1min finished\n",
      "[Parallel(n_jobs=1)]: Done 2000 out of 2000 | elapsed:    4.4s finished\n"
     ]
    }
   ],
   "source": [
    "from sklearn.ensemble import ExtraTreesRegressor\n",
    "\n",
    "reg = ExtraTreesRegressor(n_estimators=2000, random_state=12,criterion='mse',warm_start=True,verbose=1)\n",
    "reg = reg.fit(X_train, y_train)\n",
    "\n",
    "pred = np.exp(reg.predict(X_test))\n",
    "\n",
    "pd.DataFrame({'id':range(1,len(pred)+1),'prix':pred}).to_csv('Results/soumission_ET_3.csv',\n",
    "                          sep = ';', index=False, header=True)"
   ]
  },
  {
   "cell_type": "markdown",
   "metadata": {
    "collapsed": true
   },
   "source": [
    "#### 4.4. Adaboost Regressor <a name=\"Ada\"></a>"
   ]
  },
  {
   "cell_type": "code",
   "execution_count": null,
   "metadata": {
    "collapsed": false
   },
   "outputs": [
    {
     "name": "stdout",
     "output_type": "stream",
     "text": [
      "135.490443918\n",
      "133.38920822\n"
     ]
    }
   ],
   "source": [
    "from sklearn.ensemble import AdaBoostRegressor\n",
    "from sklearn.cross_validation import KFold\n",
    "\n",
    "err = 0\n",
    "K_Fold = 5\n",
    "\n",
    "for train_index, test_index in KFold(X_train.shape[0], n_folds=K_Fold):\n",
    "    X_train_cv, X_test_cv = X_train.ix[train_index, :], X_train.ix[test_index, :]\n",
    "    y_train_cv, y_test_cv = y_train[train_index], y_train[test_index]  \n",
    "    reg = AdaBoostRegressor()\n",
    "    reg.fit(X_train_cv, y_train_cv)\n",
    "    pred_cv = reg.predict(X_test_cv)\n",
    "    err += mape_error(np.exp(y_test_cv), np.exp(pred_cv))\n",
    "    print mape_error(np.exp(y_test_cv), np.exp(pred_cv))\n",
    "print \"*** MAPE Error : \",(round(err / K_Fold,2))"
   ]
  },
  {
   "cell_type": "markdown",
   "metadata": {},
   "source": [
    "#### 4.4. Ridge Regression <a name=\"Ridges\"></a>"
   ]
  },
  {
   "cell_type": "code",
   "execution_count": null,
   "metadata": {
    "collapsed": true
   },
   "outputs": [],
   "source": [
    "from sklearn.linear_model import Ridge\n",
    "from sklearn.cross_validation import KFold\n",
    "\n",
    "NBROUND = 5\n",
    "alpha = [0.8]\n",
    "\n",
    "for alpha in alpha:\n",
    "    err = 0\n",
    "    for train_index, test_index in KFold(X_train.shape[0], n_folds=NBROUND):\n",
    "        X_train_cv, X_test_cv = X_train.ix[train_index, :], X_train.ix[test_index, :]\n",
    "        y_train_cv, y_test_cv = y_train[train_index], y_train[test_index]  \n",
    "        reg = Ridge(alpha = alpha,normalize=False)\n",
    "        reg.fit(X_train_cv, y_train_cv)\n",
    "        pred_cv = reg.predict(X_test_cv)\n",
    "        err += mape_error(np.exp(y_test_cv), np.exp(pred_cv))\n",
    "        print mape_error(np.exp(y_test_cv), np.exp(pred_cv))\n",
    "    print (round(err / NBROUND,2), alpha)"
   ]
  },
  {
   "cell_type": "code",
   "execution_count": 48,
   "metadata": {
    "collapsed": true
   },
   "outputs": [],
   "source": [
    "from sklearn.linear_model import Ridge\n",
    "\n",
    "alpha = [.4]\n",
    "\n",
    "\n",
    "reg = Ridge(alpha = alpha)\n",
    "reg = reg.fit(X_train, y_train)\n",
    "\n",
    "pred = np.exp(reg.predict(X_test))\n",
    "\n",
    "pd.DataFrame({'id':range(1,len(pred)+1),'prix':pred}).to_csv('Results/soumission_Ridge_2_1.csv',\n",
    "                          sep = ';', index=False, header=True)"
   ]
  },
  {
   "cell_type": "markdown",
   "metadata": {},
   "source": [
    "#### 4.5. Elastic Net<a name=\"ENet\"></a>"
   ]
  },
  {
   "cell_type": "code",
   "execution_count": null,
   "metadata": {
    "collapsed": true
   },
   "outputs": [],
   "source": [
    "from sklearn.linear_model import ElasticNet\n",
    "from sklearn.cross_validation import KFold\n",
    "\n",
    "alpha = .01\n",
    "err = 0\n",
    "NBROUND = 5\n",
    "\n",
    "for train_index, test_index in KFold(train.shape[0], n_folds=NBROUND):\n",
    "    X_train_cv, X_test_cv = X_train.ix[train_index, :], X_train.ix[test_index, :]\n",
    "    y_train_cv, y_test_cv = y_train[train_index], y_train[test_index]  \n",
    "    reg = ElasticNet(alpha=alpha, l1_ratio=0.01,normalize=False, max_iter=5000)\n",
    "    reg.fit(X_train_cv, y_train_cv)\n",
    "    pred = reg.predict(X_test_cv)\n",
    "    err += mape_error(np.exp(y_test_cv), np.exp(pred))\n",
    "    print mape_error(np.exp(y_test_cv), np.exp(pred))\n",
    "print (round(err / NBROUND,2))"
   ]
  },
  {
   "cell_type": "markdown",
   "metadata": {},
   "source": [
    "#### 4.7. Lasso Regression <a name=\"Lasso\"></a>"
   ]
  },
  {
   "cell_type": "code",
   "execution_count": null,
   "metadata": {
    "collapsed": true
   },
   "outputs": [],
   "source": [
    "from sklearn.linear_model import Lasso\n",
    "from sklearn.cross_validation import KFold\n",
    "\n",
    "NBROUND = 5\n",
    "alpha = [1e-5]\n",
    "\n",
    "for alpha in alpha:\n",
    "    err = 0\n",
    "    for train_index, test_index in KFold(X_train.shape[0], n_folds=NBROUND):\n",
    "        X_train_cv, X_test_cv = X_train.ix[train_index, :], X_train.ix[test_index, :]\n",
    "        y_train_cv, y_test_cv = y_train[train_index], y_train[test_index]  \n",
    "        reg = Lasso(alpha=alpha)\n",
    "        reg.fit(X_train_cv, y_train_cv)\n",
    "        pred_cv = reg.predict(X_test_cv)\n",
    "        err += mape_error(np.exp(y_test_cv), np.exp(pred_cv))\n",
    "        print mape_error(np.exp(y_test_cv), np.exp(pred_cv))\n",
    "    print (round(err / NBROUND,2), alpha)"
   ]
  },
  {
   "cell_type": "markdown",
   "metadata": {},
   "source": [
    "#### 4.6 Support Vectors Machine <a name=\"SVM\"></a>"
   ]
  },
  {
   "cell_type": "code",
   "execution_count": null,
   "metadata": {
    "collapsed": true
   },
   "outputs": [],
   "source": [
    "from sklearn.svm import SVR\n",
    "from sklearn.cross_validation import KFold\n",
    "\n",
    "NBROUND = 5\n",
    "err = 0\n",
    "\n",
    "for train_index, test_index in KFold(X_train.shape[0], n_folds=NBROUND):\n",
    "    X_train_cv, X_test_cv = X_train.ix[train_index, :], X_train.ix[test_index, :]\n",
    "    y_train_cv, y_test_cv = y_train[train_index], y_train[test_index]  \n",
    "    reg = SVR()\n",
    "    reg.fit(X_train_cv, y_train_cv)\n",
    "    pred_cv = reg.predict(X_test_cv)\n",
    "    err += mape_error(np.exp(y_test_cv), np.exp(pred_cv))\n",
    "    print mape_error(np.exp(y_test_cv), np.exp(pred_cv))\n",
    "print (round(err / NBROUND,2))"
   ]
  },
  {
   "cell_type": "markdown",
   "metadata": {},
   "source": [
    "### 5. Stacking and Blending <a name=\"Stacking\"></a>"
   ]
  },
  {
   "cell_type": "markdown",
   "metadata": {},
   "source": [
    "#### 5.1. Stacking by mean aggreagtion  <a name=\"Stacking_1\"></a>"
   ]
  },
  {
   "cell_type": "code",
   "execution_count": 151,
   "metadata": {
    "collapsed": false
   },
   "outputs": [],
   "source": [
    "Model_1 = pd.read_csv('Results/soumission_ET_3.csv',\n",
    "                      encoding='utf8',sep=';')\n",
    "Model_4 = pd.read_csv('Results/soumission_RF_1_8b_nn.csv',\n",
    "                      encoding='utf8',sep=';')\n",
    "Model_3 = pd.read_csv('Results/soumission_Stack_10-29_47373.csv',\n",
    "                      encoding='utf8',sep=';')\n",
    "\n",
    "df = [Model_1['prix'],Model_4['prix'],Model_3['prix']]\n",
    "df = pd.DataFrame(df).transpose()\n",
    "\n",
    "pred_stack = df.mean(axis=1)\n",
    "\n",
    "pd.DataFrame({'id':range(1,len(pred_stack)+1),'prix':pred_stack}).to_csv('Results/soumission_Stack_14.csv',\n",
    "                          sep = ';', index=False, header=True)"
   ]
  },
  {
   "cell_type": "markdown",
   "metadata": {},
   "source": [
    "#### 5.2. Basic Stacking with Linear Regression <a name=\"Stacking_2\"></a>"
   ]
  },
  {
   "cell_type": "code",
   "execution_count": 453,
   "metadata": {
    "collapsed": false
   },
   "outputs": [
    {
     "name": "stdout",
     "output_type": "stream",
     "text": [
      "RF Model....\n",
      ".....\n",
      ".....\n",
      ".....\n",
      ".....\n",
      ".....\n",
      "Ridge Model....\n",
      ".....\n",
      ".....\n",
      ".....\n",
      ".....\n",
      ".....\n"
     ]
    }
   ],
   "source": [
    "from sklearn.cross_validation import KFold\n",
    "from sklearn.ensemble import RandomForestRegressor\n",
    "from sklearn.ensemble import ExtraTreesRegressor\n",
    "from sklearn.linear_model import LinearRegression\n",
    "\n",
    "K_Fold = 5\n",
    "n = 250\n",
    "\n",
    "print 'RF Model....'\n",
    "pred_cv_1 = []\n",
    "\n",
    "for train_index, test_index in KFold(X_train.shape[0], n_folds=K_Fold):\n",
    "    X_train_cv, X_test_cv = X_train.ix[train_index, :], X_train.ix[test_index, :]\n",
    "    y_train_cv, y_test_cv = y_train[train_index], y_train[test_index]  \n",
    "    reg = RandomForestRegressor(n_estimators=n, random_state=12)\n",
    "    reg.fit(X_train_cv, y_train_cv)\n",
    "    pred_cv_1 = np.append(pred_cv_1,reg.predict(X_test_cv))\n",
    "    print '.....'\n",
    "\n",
    "reg = RandomForestRegressor(n_estimators=n, random_state=12)\n",
    "reg.fit(X_train, y_train)\n",
    "pred_1 = reg.predict(X_test)\n",
    "    \n",
    "print 'ET Model....'\n",
    "pred_cv_2 = []\n",
    "\n",
    "alpha = [.4]\n",
    "\n",
    "for train_index, test_index in KFold(X_train.shape[0], n_folds=K_Fold):\n",
    "    X_train_cv, X_test_cv = X_train.ix[train_index, :], X_train.ix[test_index, :]\n",
    "    y_train_cv, y_test_cv = y_train[train_index], y_train[test_index]  \n",
    "    reg = ExtraTreesRegressor(n_estimators=n, random_state=12random_state=12,criterion='mse',warm_start=True,verbose=1)\n",
    "    reg.fit(X_train_cv, y_train_cv)\n",
    "    pred_cv_2 = np.append(pred_cv_2,reg.predict(X_test_cv))\n",
    "    print '.....'\n",
    "\n",
    "reg = ExtraTreesRegressor(n_estimators=n, random_state=12random_state=12,criterion='mse',warm_start=True,verbose=1)\n",
    "reg = reg.fit(X_train, y_train)\n",
    "pred_2 = reg.predict(X_test) \n",
    "\n",
    "regr = RandomForestRegressor(random_state=12)\n",
    "pred_cv = pd.DataFrame([pred_cv_1,pred_cv_2]).transpose()\n",
    "pred = pd.DataFrame([pred_1,pred_2]).transpose()\n",
    "regr = regr.fit(pred_cv, y_train)\n",
    "pred_f = np.exp(regr.predict(pred))\n",
    "\n",
    "pd.DataFrame({'id':range(1,len(pred)+1),'prix':pred_f}).to_csv('Results/soumission_Stacking_Linear_5.csv',\n",
    "                          sep = ';', index=False, header=True)   "
   ]
  },
  {
   "cell_type": "markdown",
   "metadata": {},
   "source": [
    "#### 5.3. Stacking with stacked_generalizer <a name=\"Stacking_Gen\"></a>"
   ]
  },
  {
   "cell_type": "code",
   "execution_count": 41,
   "metadata": {
    "collapsed": false
   },
   "outputs": [],
   "source": [
    "from stacked_generalization.lib.stacking import StackedRegressor\n",
    "from sklearn.ensemble import RandomForestRegressor, ExtraTreesRegressor,GradientBoostingRegressor\n",
    "from sklearn.linear_model import LinearRegression\n",
    "import numpy as np\n",
    "\n",
    "VERBOSE = True\n",
    "N_FOLDS = 5\n",
    "\n",
    "X = np.asmatrix(X_train)\n",
    "y = y_train\n",
    "X_t = np.asmatrix(X_test)\n",
    "\n",
    "\n",
    "# define base models\n",
    "base_models = [RandomForestRegressor(n_estimators=50, random_state=12),\n",
    "               ExtraTreesRegressor(n_estimators=50, random_state=12)]\n",
    "\n",
    "# define blending model\n",
    "blending_model = LinearRegression()\n",
    "\n",
    "# initialize multi-stage model\n",
    "sg = StackedRegressor(blending_model,base_models,n_folds=5,verbose=0,oob_score_flag=False)\n",
    "\n",
    "# fit model\n",
    "sg.fit(X,y)\n",
    "\n",
    "pred_f = np.exp(sg.predict(X_t))\n",
    "\n",
    "pd.DataFrame({'id':range(1,len(pred_f)+1),'prix':pred_f}).to_csv('Results/soumission_Stacking_Linear_3.csv',\n",
    "                          sep = ';', index=False, header=True)   "
   ]
  }
 ],
 "metadata": {
  "anaconda-cloud": {},
  "kernelspec": {
   "display_name": "Python [conda env:py27]",
   "language": "python",
   "name": "conda-env-py27-py"
  },
  "language_info": {
   "codemirror_mode": {
    "name": "ipython",
    "version": 2
   },
   "file_extension": ".py",
   "mimetype": "text/x-python",
   "name": "python",
   "nbconvert_exporter": "python",
   "pygments_lexer": "ipython2",
   "version": "2.7.12"
  }
 },
 "nbformat": 4,
 "nbformat_minor": 1
}
